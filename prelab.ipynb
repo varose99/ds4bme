{
  "nbformat": 4,
  "nbformat_minor": 0,
  "metadata": {
    "kernelspec": {
      "display_name": "Python 3",
      "language": "python",
      "name": "python3"
    },
    "language_info": {
      "codemirror_mode": {
        "name": "ipython",
        "version": 3
      },
      "file_extension": ".py",
      "mimetype": "text/x-python",
      "name": "python",
      "nbconvert_exporter": "python",
      "pygments_lexer": "ipython3",
      "version": "3.6.8"
    },
    "colab": {
      "name": "prelab.ipynb",
      "version": "0.3.2",
      "provenance": [],
      "collapsed_sections": [],
      "include_colab_link": true
    }
  },
  "cells": [
    {
      "cell_type": "markdown",
      "metadata": {
        "id": "view-in-github",
        "colab_type": "text"
      },
      "source": [
        "<a href=\"https://colab.research.google.com/github/vrose99/ds4bme/blob/master/prelab.ipynb\" target=\"_parent\"><img src=\"https://colab.research.google.com/assets/colab-badge.svg\" alt=\"Open In Colab\"/></a>"
      ]
    },
    {
      "cell_type": "markdown",
      "metadata": {
        "id": "5r-cEN_96yZB",
        "colab_type": "text"
      },
      "source": [
        "# This is a Jupyter Notebook!\n",
        "Jupyter Notebooks are essentially interactive documents where you can have text (using the Markdown language) and Python code. It is a very powerful tool for analyzing, displaying, and presenting data. In this basic tutorial we will learn some very basic concepts about Python programming language. For more details, we refer to the official site [www.python.org](www.python.org)"
      ]
    },
    {
      "cell_type": "markdown",
      "metadata": {
        "id": "3s1jubrW6yZD",
        "colab_type": "text"
      },
      "source": [
        "# Markdown basics\n",
        "By double-clicking this cell you will learn the basic syntaxt of Markdown.\n",
        "\n",
        "## This is a level 2 heading\n",
        "### This is a level 3 heading\n",
        "This is some plain text that forms a paragraph.\n",
        "Add emphasis via **bold** and __bold__, or *italic* and _italic_.\n",
        "Paragraphs must be separated by an empty line.\n",
        "\n",
        "* This is the first item in a list.\n",
        "* Item 2.\n",
        "\n",
        "You can also include hyperlinks [to a website](http://cis.jhu.edu/~bbejar/bmds/)\n",
        "\n",
        "Inline code uses single backticks: `foo()`, and code blocks use triple backticks:\n",
        "```\n",
        "# My first Python program\n",
        "print(\"Hello World!\")\n",
        "```\n",
        "\n",
        "You can display math equations using LaTeX:\n",
        "\n",
        "$$f(x) = \\sin(x)$$\n",
        "\n",
        "Adding an image is easy: ![JHU BME](data:image/png;base64,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)\n",
        "\n",
        "Further details can be found in this guide [Markdown Guide](https://www.markdownguide.org/basic-syntax/)"
      ]
    },
    {
      "cell_type": "markdown",
      "metadata": {
        "id": "fwVpZ6CI6yZE",
        "colab_type": "text"
      },
      "source": [
        "# Python basics\n",
        "\n",
        "We now give some basic examples on how to use and manipulate variables in Python.\n",
        "\n",
        "### Numbers and arithmetic operations\n"
      ]
    },
    {
      "cell_type": "code",
      "metadata": {
        "id": "FWzzJSQx6yZF",
        "colab_type": "code",
        "outputId": "f2c888ec-a2cd-46c4-9140-45a61cc4c045",
        "colab": {
          "base_uri": "https://localhost:8080/",
          "height": 51
        }
      },
      "source": [
        "# Comments in Python start with #\n",
        "\n",
        "\"\"\"\n",
        "\n",
        "Block comments use triple quotation marks.\n",
        "And can contain line-breaks\n",
        "\n",
        "\"\"\"\n",
        "\n",
        "# variables can be defined\n",
        "a = 2 # this is a float\n",
        "b = 3\n",
        "\n",
        "# we can now do some operations on those\n",
        "c = a + b\n",
        "print(\"The value of a + b is %f\"%(c))\n",
        "\n",
        "# we can cast types, sometimes we will work with integers\n",
        "c = int(a+b)\n",
        "print(\"The value of a + b is %d\"%(c))\n"
      ],
      "execution_count": 0,
      "outputs": [
        {
          "output_type": "stream",
          "text": [
            "The value of a + b is 5.000000\n",
            "The value of a + b is 5\n"
          ],
          "name": "stdout"
        }
      ]
    },
    {
      "cell_type": "markdown",
      "metadata": {
        "id": "g7b8xQ2O6yZS",
        "colab_type": "text"
      },
      "source": [
        "### Lists\n",
        "\n",
        "Lists are very powerful objects that can contain any other Python object, even of different type even though we will typically use lists to contain objects of the same type. You can easily iterate over the elements of a list using a *for* loop."
      ]
    },
    {
      "cell_type": "code",
      "metadata": {
        "id": "a497SvWQ6yZW",
        "colab_type": "code",
        "outputId": "9dd3fbba-cb50-4fcd-cb3d-503a2d48c196",
        "colab": {
          "base_uri": "https://localhost:8080/",
          "height": 221
        }
      },
      "source": [
        "# Lists are defined using brackets\n",
        "mylist = [] # this is an empty list\n",
        "\n",
        "# a list of numbers and strings\n",
        "mylist = [1,2,3,'five']\n",
        "\n",
        "print(\"This is a list of %d elements\\n\"%(len(mylist)))\n",
        "\n",
        "# iterate over a list\n",
        "for item in mylist[:]:\n",
        "    # here item already contains an idexed element\n",
        "    print(item)\n",
        "\n",
        "# leave a blank line\n",
        "print('')\n",
        "\n",
        "# add a new element to the list\n",
        "mylist.append('six')\n",
        "\n",
        "# iterate using range\n",
        "for ii in range(len(mylist)):\n",
        "    # here ii is just a counter, we need to access the list to get its value\n",
        "    print(mylist[ii])"
      ],
      "execution_count": 0,
      "outputs": [
        {
          "output_type": "stream",
          "text": [
            "This is a list of 4 elements\n",
            "\n",
            "1\n",
            "2\n",
            "3\n",
            "five\n",
            "\n",
            "1\n",
            "2\n",
            "3\n",
            "five\n",
            "six\n"
          ],
          "name": "stdout"
        }
      ]
    },
    {
      "cell_type": "markdown",
      "metadata": {
        "id": "tQIEEj-96yZd",
        "colab_type": "text"
      },
      "source": [
        "**Exercise 1.** Create a sequence (list) of numbers corresponding to sampled values of the function $\\sin(2\\pi t)$ over one period, and with a sampling frequency $f_s = 8$ Hz. In other words, create a sequence:\n",
        "\n",
        "$$x_n = \\sin(2\\pi n T),\\quad n=0,1,\\ldots,\\lfloor f_s\\rfloor,\\quad T = \\frac{1}{f_s},$$\n",
        "\n",
        "where $\\lfloor x \\rfloor$ denotes the largest integer smaller than $x$. Print the sequence of values. For evaluating math functions you can use the `math` module of Python. You will need to import the corresponding module before invoking the `sin()` function as shown in the example below:\n",
        "```\n",
        "import math\n",
        "\n",
        "x = math.sin(math.pi/2)\n",
        "\n",
        "print(x)\n",
        "\n",
        "```\n"
      ]
    },
    {
      "cell_type": "code",
      "metadata": {
        "id": "3L2p7RY96yZg",
        "colab_type": "code",
        "outputId": "9626da07-3143-421d-e50a-37b6c5b5372b",
        "colab": {
          "base_uri": "https://localhost:8080/",
          "height": 51
        }
      },
      "source": [
        "# import math module to call sin() function\n",
        "import math\n",
        "\n",
        "# evaluate and print sin(pi/2)\n",
        "print(math.sin(math.pi/2))\n",
        "\n",
        "# code for Exercise 1 starts here\n",
        "# ...\n",
        "fs = 8 # sampling frequency\n",
        "\n",
        "sample = [0]*(fs+1) # creates a list for samples to go into\n",
        "\n",
        "for i in range(0,fs+1): # iterates over number of desired sampling points\n",
        "  sample[i] = math.sin(2*i*(1/fs)*math.pi)  # acquires value of function at that sampling point\n",
        "  \n",
        "print(sample) # print list\n",
        "\n",
        "# type(sample) # just to double check that it is a list\n"
      ],
      "execution_count": 0,
      "outputs": [
        {
          "output_type": "stream",
          "text": [
            "1.0\n",
            "[0.0, 0.7071067811865475, 1.0, 0.7071067811865476, 1.2246467991473532e-16, -0.7071067811865475, -1.0, -0.7071067811865477, -2.4492935982947064e-16]\n"
          ],
          "name": "stdout"
        }
      ]
    },
    {
      "cell_type": "markdown",
      "metadata": {
        "id": "acfXZO1H6yZk",
        "colab_type": "text"
      },
      "source": [
        "### Modules and basic plotting\n",
        "Many libraries and added functionalities are available in Python through \"modules\". A module contains a library of objects and functions with specialized purpose. For instance, the `numpy` module allows you to do vector-oriented numerical manipulations similar to MATLAB. Another module that is relevant for this class is the scikit-learn `sklearn` library which implements many machine learning methods for data analysis, clustering, and classification. In order to be able to use a module you should use the `import` command:\n",
        "\n",
        "```\n",
        "# this command imports all numpy library and it will be referred to as np\n",
        "import numpy as np\n",
        "\n",
        "# create an 10x1 dimensional array of zeros\n",
        "zero_array = np.zeros((10,1))\n",
        "\n",
        "# the command below import the svm object classifier from sklearn\n",
        "from sklearn import svm\n",
        "\n",
        "```\n",
        "You should search the documentation for specific modules in order to see how to use it.\n",
        "\n",
        "Data visualization is crucial for any data analysis task. In Python we have the `matplotlib` library to produce nice plots. The `seaborn` module is yet another module built on top of `matplotlib` that produces nice plots with an easy interface."
      ]
    },
    {
      "cell_type": "code",
      "metadata": {
        "id": "Sex0cKEc6yZl",
        "colab_type": "code",
        "outputId": "ad258521-c554-49c9-ae18-b24c1720daf9",
        "colab": {
          "base_uri": "https://localhost:8080/",
          "height": 300
        }
      },
      "source": [
        "# import modules\n",
        "import matplotlib.pyplot as plt\n",
        "import numpy as np\n",
        "\n",
        "# this line is needed to display the plots in the notebook\n",
        "%matplotlib inline\n",
        "\n",
        "# create a sinusoidal signal\n",
        "N = 64\n",
        "t = np.arange(N)\n",
        "x = np.sin(2*np.pi*t/N)\n",
        "\n",
        "# display signal\n",
        "plt.plot(t/N,x)\n",
        "plt.legend([r'$\\sin(2\\pi t)$'])\n",
        "plt.xlabel('time [s]')\n",
        "plt.ylabel('amplitude [V]')\n"
      ],
      "execution_count": 0,
      "outputs": [
        {
          "output_type": "execute_result",
          "data": {
            "text/plain": [
              "Text(0, 0.5, 'amplitude [V]')"
            ]
          },
          "metadata": {
            "tags": []
          },
          "execution_count": 12
        },
        {
          "output_type": "display_data",
          "data": {
            "image/png": "[encoded data removed]",
            "text/plain": [
              "<Figure size 432x288 with 1 Axes>"
            ]
          },
          "metadata": {
            "tags": []
          }
        }
      ]
    },
    {
      "cell_type": "markdown",
      "metadata": {
        "id": "yg6g2Wi26yZr",
        "colab_type": "text"
      },
      "source": [
        "### Functions\n",
        "Functions in Python are defined using the keyword `def`. Below, you have an example on how to define a function that computes the average of two numbers and returns the result of averaging.\n",
        "```\n",
        "def mean(a,b):\n",
        "    mval = (a + b)/2\n",
        "    return mval\n",
        "```\n",
        "Please, keep in mind indentation. Python is very strict about indentation and your code won't compile if not properly indented.\n",
        "\n",
        "You can now call your function:\n",
        "\n",
        "```\n",
        "mean_value = mean(1,2)\n",
        "\n",
        "```"
      ]
    },
    {
      "cell_type": "markdown",
      "metadata": {
        "id": "rrGWCebX6yZs",
        "colab_type": "text"
      },
      "source": [
        "**Exercise 2.** Create two sequences $x_n$ and $y_n$ by sampling $\\sin(2\\pi t)$ and $\\cos(4\\pi t)$ with sampling rate $f_s = 64$ Hz, and store them in two separate lists. Write a function `add_sequence(x,y)` that returns the addition of the two lists. Plot the result of the addition in a graph adding the corresponding labels for the axes.\n",
        "\n",
        "Repeat the addition task before using vector array operations with the `numpy` module."
      ]
    },
    {
      "cell_type": "code",
      "metadata": {
        "id": "MHlm4k0O6yZx",
        "colab_type": "code",
        "outputId": "95445690-1c50-4f70-a424-f9d2006a5d73",
        "colab": {
          "base_uri": "https://localhost:8080/",
          "height": 349
        }
      },
      "source": [
        "# implement Exercise 2 here\n",
        "\n",
        "fs = 64 # sampling frequency\n",
        "\n",
        "sample_x = [0]*(fs+1) # creates a list for samples to go into\n",
        "sample_y = [0]*(fs+1)\n",
        "\n",
        "for i in range(0,fs+1): # iterates over number of desired sampling points\n",
        "  sample_x[i] = math.sin(2*i*(1/fs)*math.pi)  # acquires value of function at that sampling point\n",
        "  sample_y[i] = math.cos(4*i*(1/fs)*math.pi)\n",
        "  \n",
        "def add_sequence(x,y):\n",
        "  ans = [0]*len(x)\n",
        "  for i in range(0,len(x)):\n",
        "    ans[i] = x[i]+y[i]\n",
        "  return ans\n",
        "\n",
        "total = add_sequence(sample_x,sample_y)\n",
        "\n",
        "print(total)\n",
        "\n",
        "fig = plt.figure()\n",
        "plt.plot(total)\n",
        "plt.title(\"64Hz Sampling Sum\")\n",
        "plt.xlabel('sampling point n')\n",
        "plt.ylabel('sum of cos(4tpi) + sin(2tpi)')\n",
        "  "
      ],
      "execution_count": 0,
      "outputs": [
        {
          "output_type": "stream",
          "text": [
            "[1.0, 1.078802420732791, 1.118969854527415, 1.1217542895570076, 1.0897902135516373, 1.0269669698455999, 0.938253665384692, 0.8294836061797738, 0.7071067811865476, 0.5779201313466088, 0.4487861799374555, 0.326351031328753, 0.21677275132473928, 0.1254707234296636, 0.05690574789194369, 0.014399446268966387, 0.0, 0.014399446268966498, 0.05690574789194358, 0.12547072342966348, 0.21677275132473905, 0.32635103132875287, 0.4487861799374551, 0.5779201313466085, 0.7071067811865474, 0.8294836061797738, 0.9382536653846922, 1.0269669698455997, 1.0897902135516373, 1.1217542895570076, 1.1189698545274152, 1.078802420732791, 1.0000000000000002, 0.8827681400736699, 0.7287892104951583, 0.5411849350480833, 0.324423348821458, 0.08417349619360465, -0.1728868006545115, -0.4393029621475165, -0.7071067811865471, -0.968100775378864, -1.2141530446676352, -1.4374914973679567, -1.630986313697833, -1.788409948034754, -1.9046648129145167, -1.9759700070754276, -2.0, -1.9759700070754276, -1.9046648129145172, -1.7884099480347544, -1.6309863136978338, -1.4374914973679576, -1.214153044667636, -0.9681007753788649, -0.7071067811865481, -0.43930296214751874, -0.1728868006545124, 0.0841734961936037, 0.3244233488214562, 0.5411849350480826, 0.7287892104951577, 0.8827681400736699, 0.9999999999999998]\n"
          ],
          "name": "stdout"
        },
        {
          "output_type": "execute_result",
          "data": {
            "text/plain": [
              "Text(0, 0.5, 'sum of cos(4tpi) + sin(2tpi)')"
            ]
          },
          "metadata": {
            "tags": []
          },
          "execution_count": 38
        },
        {
          "output_type": "display_data",
          "data": {
            "image/png": "[encoded data removed]",
            "text/plain": [
              "<Figure size 432x288 with 1 Axes>"
            ]
          },
          "metadata": {
            "tags": []
          }
        }
      ]
    },
    {
      "cell_type": "markdown",
      "metadata": {
        "id": "hunOWz5g6yZ0",
        "colab_type": "text"
      },
      "source": [
        "# Digital signal processing\n",
        "A digital signal can be thought as a function defined over a discrete (but possibly infinite) set. For instance, we can obtain a digital signal by recording (sampling) a continuous-time signal at regular sampling intervals. Digital signal processing is a discipline at the foundations of Data Science that deals with the representation, information extraction (estimation), and reconstruction of digital signals. A very powerful tool to the analysis and manipulation of discrete signals is to use linear shift-invariant operators also called filters (see background notes on digital signal processing in the manual). We will get familiar to basic filtering operations using the `numpy` module.\n",
        "\n",
        "### Filtering and convolution\n",
        "The input-output relationship of a linear shift-invariant filter is determined by the __convolution__ of the input signal $x_n$ with the impulse response of the filter $h_n$:\n",
        "\n",
        "$$y_n = x_n\\ast h_n = \\sum_{k\\in\\mathbb{Z}} h_k x_{n-k} = \\sum_{k\\in\\mathbb{Z}} x_k h_{n-k}$$\n",
        "\n",
        "### Discrete-time Fourier Transform (DTFT)\n",
        "Similarly to continuous signals, we can also define the Fourier transform for discrete signals. For a sequence $x_n$, its DTFT $X(e^{j\\omega})$ is a continuous and $2\\pi$ periodic signal given by:\n",
        "\n",
        "$$X(e^{j\\omega}) = \\sum_{n\\in\\mathbb{Z}}x_n e^{-j\\omega n}$$\n"
      ]
    },
    {
      "cell_type": "markdown",
      "metadata": {
        "id": "mPHYPObL6yZ1",
        "colab_type": "text"
      },
      "source": [
        "**Exercise 3.** Using the definition of the DTFT show the property that convolution in time is equivalent to multiplication in the frequency domain. In other words, show that for $y_n = x_n\\ast h_n$, its DTFT $Y(e^{j\\omega}) = X(e^{j\\omega})H(e^{j\\omega})$"
      ]
    },
    {
      "cell_type": "code",
      "metadata": {
        "id": "2eUhVxjpCRtW",
        "colab_type": "code",
        "colab": {}
      },
      "source": [
        "# Excercise 3\n",
        "\n",
        "y = "
      ],
      "execution_count": 0,
      "outputs": []
    },
    {
      "cell_type": "markdown",
      "metadata": {
        "id": "ZwkvUIpm6yZ1",
        "colab_type": "text"
      },
      "source": [
        "### Discrete Fourier Transform (DFT)\n",
        "In practice we will be working with finite length (periodic) sequences. For a sequence of $N$ samples of length, we define its DFT as:\n",
        "\n",
        "$$X_k = \\sum_{n=0}^{N-1} x_n e^{-j2\\pi\\frac{nk}{N}},\\quad k=0,\\ldots,N-1.$$\n",
        "\n",
        "Similarly, its inverse operation IDFT is computed as:\n",
        "\n",
        "$$x_n = \\sum_{k=0}^{N-1} X_k e^{j2\\pi\\frac{nk}{N}},\\quad n=0,\\ldots,N-1.$$\n",
        "\n",
        "We can compute the DFT of a seuquence and its inverse using the Fast Fourier Transform (FFT) algorithm, which is an efficient method for computing the DFT. We can compute the (I)DFT using `numpy` as illustrated in the example below."
      ]
    },
    {
      "cell_type": "code",
      "metadata": {
        "id": "B5Zh3tle6yZ2",
        "colab_type": "code",
        "outputId": "1b0a3999-8248-4388-b9fc-b1e77d577fa7",
        "colab": {
          "base_uri": "https://localhost:8080/",
          "height": 549
        }
      },
      "source": [
        "# import modules\n",
        "import numpy as np\n",
        "\n",
        "# length of the signal\n",
        "N = 64\n",
        "\n",
        "# create an empy signal\n",
        "x = np.zeros(N)\n",
        "# fill-in with ones the first 10 entries\n",
        "x[0:10] = 1\n",
        "\n",
        "# display the sequence\n",
        "plt.figure()\n",
        "plt.stem(x)\n",
        "plt.xlabel('n')\n",
        "plt.ylabel('amplitude')\n",
        "\n",
        "# compute the FFT\n",
        "X = np.fft.fft(x)\n",
        "\n",
        "# display real and imaginary parts\n",
        "plt.figure()\n",
        "plt.plot(np.real(X))\n",
        "plt.plot(np.imag(X))\n",
        "plt.xlabel('k')\n",
        "plt.ylabel('amplitude')\n",
        "plt.legend(['real','imag'])\n",
        "\n",
        "# retrieve the signal back (take the real part to remove numerical errors)\n",
        "x = np.real(np.fft.ifft(X))"
      ],
      "execution_count": 0,
      "outputs": [
        {
          "output_type": "display_data",
          "data": {
            "image/png": "[encoded data removed]",
            "text/plain": [
              "<Figure size 432x288 with 1 Axes>"
            ]
          },
          "metadata": {
            "tags": []
          }
        },
        {
          "output_type": "display_data",
          "data": {
            "image/png": "[encoded data removed]",
            "text/plain": [
              "<Figure size 432x288 with 1 Axes>"
            ]
          },
          "metadata": {
            "tags": []
          }
        }
      ]
    },
    {
      "cell_type": "markdown",
      "metadata": {
        "id": "5gsrAEc36yZ-",
        "colab_type": "text"
      },
      "source": [
        "**Exercise 4.** Generate two box sequences as defined below:\n",
        "\n",
        "$$x_n = \\begin{cases}1 &0\\leq n\\leq 10\\\\0 &\\textrm{else}\\end{cases},\\quad h_n = \\begin{cases}1 &0\\leq n\\leq 20\\\\0 &\\textrm{else}\\end{cases},\\quad n = 0,\\ldots,63.$$\n",
        "\n",
        "Compute $y_n = x_n \\ast h_n$ using `numpy.convolve` and plot (`plt.stem`) the resulting sequence $y_n$. Compute the DFT $Y_k$ and plot its **magnitude** over the frequency range $[-\\pi,\\pi]$. _(Hint. Use `numpy.fft.fftshift`)_. Label the horizontal and vertical axes."
      ]
    },
    {
      "cell_type": "code",
      "metadata": {
        "id": "UWFWsCqY6yZ_",
        "colab_type": "code",
        "outputId": "bc763cfd-6c90-4d6f-e914-44da814afe0e",
        "colab": {
          "base_uri": "https://localhost:8080/",
          "height": 538
        }
      },
      "source": [
        "# implement Exercise 4 in this cell\n",
        "# ...\n",
        "n = 64 # number of sampling points\n",
        "x = [0]*n\n",
        "h = [0]*n\n",
        "for i in range(0,n):\n",
        "  if i <=10:\n",
        "    x[i] = 1\n",
        "    h[i] = 1\n",
        "  if i <= 20:\n",
        "    h[i] = 1\n",
        "y = np.convolve(x,h) \n",
        "plt.figure()\n",
        "plt.stem(y)\n",
        "\n",
        "### NEED TO BE -PI TO PI\n",
        "dft = np.fft.fftshift(y) \n",
        "plt.figure()\n",
        "plt.plot(dft)"
      ],
      "execution_count": 0,
      "outputs": [
        {
          "output_type": "execute_result",
          "data": {
            "text/plain": [
              "[<matplotlib.lines.Line2D at 0x7f54937c1358>]"
            ]
          },
          "metadata": {
            "tags": []
          },
          "execution_count": 46
        },
        {
          "output_type": "display_data",
          "data": {
            "image/png": "[encoded data removed]",
            "text/plain": [
              "<Figure size 432x288 with 1 Axes>"
            ]
          },
          "metadata": {
            "tags": []
          }
        },
        {
          "output_type": "display_data",
          "data": {
            "image/png": "[encoded data removed]",
            "text/plain": [
              "<Figure size 432x288 with 1 Axes>"
            ]
          },
          "metadata": {
            "tags": []
          }
        }
      ]
    },
    {
      "cell_type": "markdown",
      "metadata": {
        "id": "7-WNAWMP6yaB",
        "colab_type": "text"
      },
      "source": [
        "### Random signal generation\n",
        "In many situations it is of practical importance to generate signals at random (e.g., testing different noise conditions, simulating different realizations of the same experiment, etc). We can use the random submodule of numpy for generating random signals with different distributions [numpy.random](https://docs.scipy.org/doc/numpy-1.16.1/reference/routines.random.html). Below you have some examples on how to generate numbers following different distributions:\n",
        "```\n",
        "# import the sub-module\n",
        "import numpy.random as rnd\n",
        "\n",
        "# array of 10 random numbers from the interval [0,1)\n",
        "x = rnd.rand(10)\n",
        "\n",
        "# array of 10 random numbers from a standard Gaussian distribution\n",
        "x = rnd.randn(10)\n",
        "\n",
        "# array of 10 random integers from -2 to 3\n",
        "x = rnd.randint(-2,3,10)\n",
        "\n",
        "\n",
        "```"
      ]
    },
    {
      "cell_type": "markdown",
      "metadata": {
        "id": "AQRoFVd96yaC",
        "colab_type": "text"
      },
      "source": [
        "**Exercise 5.** For this exercise, generate the sequence defined by the following finite difference equation:\n",
        "\n",
        "$$ x_n = \\alpha x_{n-1} + \\beta x_{n-2} + \\epsilon_{n},\\quad x_0=x_1=0,\\quad n=0,1,\\ldots,127, $$\n",
        "\n",
        "where the driving noise sequence $\\epsilon_{n}$ consists of independent and identically distributed random numbers from a standard, normal distribution `numpy.random.randn`. For the coefficients, generate three random pairs of $(\\alpha,\\beta)$ where $\\alpha,\\beta \\sim \\mathcal{U}(-1,1)$ (uniformly distributed between -1 and 1). Plot the three time-series on the same figure. Include a title, axis labels, and a legend that lists the generated  $( \\alpha,\\beta)$ values of each time-series."
      ]
    },
    {
      "cell_type": "code",
      "metadata": {
        "id": "sSq4iTqB6yaD",
        "colab_type": "code",
        "colab": {}
      },
      "source": [
        "# fix random number generator seed (reproducibility)\n",
        "np.random.seed(10)\n",
        "\n",
        "# complete Exercise 5 in this cell\n"
      ],
      "execution_count": 0,
      "outputs": []
    },
    {
      "cell_type": "markdown",
      "metadata": {
        "id": "hpjq19ML6yaE",
        "colab_type": "text"
      },
      "source": [
        "**Exercise 6.** In this exercise you will perform a basic denoising operation by filtering a noisy signal with a low-pass filter. You are provided with a function `get_noisy_signal()` that returns a signal corrupted with noise. Let a Gaussian filter $g_n$ be defined as:\n",
        "\n",
        "$$g_n = \\frac{1}{K}e^{-(n/\\sigma)^2},\\quad -10\\leq n\\leq10,$$\n",
        "\n",
        "where $K$ is a constant such that the weights of the filter add up to 1, and where $\\sigma$ is a parameter. Filter the signal for three different values of $\\sigma=1,5,10$. Observe the trade-off between denoising and sharpness of the signal. Compare the original signal with its denoised versions by plotting them in the same figure. Add labels and legends as appropriate. Why do we loose sharp transitions when filtering with a wider kernel?"
      ]
    },
    {
      "cell_type": "code",
      "metadata": {
        "id": "n41NpzJK6yaF",
        "colab_type": "code",
        "colab": {}
      },
      "source": [
        "# fix random number generator seed (reproducibility)\n",
        "np.random.seed(10)\n",
        "\n",
        "# stepwise function with noise\n",
        "def get_noisy_signal(s=0.2):\n",
        "    \"\"\"\n",
        "    This function generates a signal with a varying amount of noise. The noise\n",
        "    variance is controlled via the input parameter s [s=1 default].\n",
        "    \"\"\"\n",
        "    \n",
        "    # generate signal\n",
        "    N = 128\n",
        "    t = np.arange(N)\n",
        "    x = np.sin(2*np.pi*t/N)\n",
        "    x[80:105] -= 1\n",
        "    \n",
        "    # generate noise\n",
        "    n = s*np.random.randn(128)\n",
        "    \n",
        "    # return noisy signal\n",
        "    return x+n\n",
        "\n",
        "# complete Exercise 6 starting here\n",
        "# ..."
      ],
      "execution_count": 0,
      "outputs": []
    }
  ]
}