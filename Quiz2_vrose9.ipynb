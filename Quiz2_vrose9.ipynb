{
  "nbformat": 4,
  "nbformat_minor": 0,
  "metadata": {
    "colab": {
      "name": "Quiz2_vrose9.ipynb",
      "version": "0.3.2",
      "provenance": [],
      "collapsed_sections": [],
      "include_colab_link": true
    },
    "kernelspec": {
      "name": "python3",
      "display_name": "Python 3"
    }
  },
  "cells": [
    {
      "cell_type": "markdown",
      "metadata": {
        "id": "view-in-github",
        "colab_type": "text"
      },
      "source": [
        "<a href=\"https://colab.research.google.com/github/vrose99/ds4bme/blob/master/Quiz2_vrose9.ipynb\" target=\"_parent\"><img src=\"https://colab.research.google.com/assets/colab-badge.svg\" alt=\"Open In Colab\"/></a>"
      ]
    },
    {
      "cell_type": "markdown",
      "metadata": {
        "id": "VY0UsZ5klEQB",
        "colab_type": "text"
      },
      "source": [
        "### Tori Rose\n",
        "### Data Science Quiz 2\n",
        "#### 11 September 2019\n",
        "#### vrose9"
      ]
    },
    {
      "cell_type": "markdown",
      "metadata": {
        "id": "TYeii0f_4A8z",
        "colab_type": "text"
      },
      "source": [
        "![alt text](https://drive.google.com/file/d/1ry0KhB5gfjqDk4hkFzcEzYSF1t6Q9YRD/view?usp=sharing)"
      ]
    },
    {
      "cell_type": "code",
      "metadata": {
        "id": "CcbGHgzrlCpE",
        "colab_type": "code",
        "colab": {}
      },
      "source": [
        "# Import libraries\n",
        "\n",
        "import numpy as np\n",
        "import math\n",
        "from scipy import stats as st\n",
        "import pandas as pd\n",
        "import seaborn as sns\n",
        "import matplotlib.pyplot as plt\n",
        "from sklearn.linear_model import LinearRegression\n"
      ],
      "execution_count": 0,
      "outputs": []
    },
    {
      "cell_type": "code",
      "metadata": {
        "id": "nYqurVstlMKt",
        "colab_type": "code",
        "colab": {
          "base_uri": "https://localhost:8080/",
          "height": 204
        },
        "outputId": "0be55e8a-bf1f-487e-b8c3-5ecbe564fb6a"
      },
      "source": [
        "# Import Data\n",
        "\n",
        "! if [ ! -e kirby21.csv ]; then wget https://raw.githubusercontent.com/bcaffo/ds4bme_intro/master/data/kirby21.csv; fi;"
      ],
      "execution_count": 5,
      "outputs": [
        {
          "output_type": "stream",
          "text": [
            "--2019-09-11 23:49:32--  https://raw.githubusercontent.com/bcaffo/ds4bme_intro/master/data/kirby21.csv\n",
            "Resolving raw.githubusercontent.com (raw.githubusercontent.com)... 151.101.0.133, 151.101.64.133, 151.101.128.133, ...\n",
            "Connecting to raw.githubusercontent.com (raw.githubusercontent.com)|151.101.0.133|:443... connected.\n",
            "HTTP request sent, awaiting response... 200 OK\n",
            "Length: 1611966 (1.5M) [text/plain]\n",
            "Saving to: ‘kirby21.csv’\n",
            "\n",
            "\rkirby21.csv           0%[                    ]       0  --.-KB/s               \rkirby21.csv         100%[===================>]   1.54M  --.-KB/s    in 0.09s   \n",
            "\n",
            "2019-09-11 23:49:32 (17.7 MB/s) - ‘kirby21.csv’ saved [1611966/1611966]\n",
            "\n"
          ],
          "name": "stdout"
        }
      ]
    },
    {
      "cell_type": "code",
      "metadata": {
        "id": "dR35TTKpu0un",
        "colab_type": "code",
        "colab": {
          "base_uri": "https://localhost:8080/",
          "height": 204
        },
        "outputId": "c5874571-55c5-4f64-f2a6-71ebd6eb7642"
      },
      "source": [
        "# Make a data Frame\n",
        "\n",
        "df = pd.read_csv(\"kirby21.csv\")\n",
        "\n",
        "df_L = df.loc[df['roi']=='Diencephalon_L']\n",
        "df_R = df.loc[df['roi']=='Diencephalon_R']\n",
        "\n",
        "#df_L.head()\n",
        "df_R.head()"
      ],
      "execution_count": 65,
      "outputs": [
        {
          "output_type": "execute_result",
          "data": {
            "text/html": [
              "<div>\n",
              "<style scoped>\n",
              "    .dataframe tbody tr th:only-of-type {\n",
              "        vertical-align: middle;\n",
              "    }\n",
              "\n",
              "    .dataframe tbody tr th {\n",
              "        vertical-align: top;\n",
              "    }\n",
              "\n",
              "    .dataframe thead th {\n",
              "        text-align: right;\n",
              "    }\n",
              "</style>\n",
              "<table border=\"1\" class=\"dataframe\">\n",
              "  <thead>\n",
              "    <tr style=\"text-align: right;\">\n",
              "      <th></th>\n",
              "      <th>Unnamed: 0</th>\n",
              "      <th>rawid</th>\n",
              "      <th>roi</th>\n",
              "      <th>volume</th>\n",
              "      <th>min</th>\n",
              "      <th>max</th>\n",
              "      <th>mean</th>\n",
              "      <th>std</th>\n",
              "      <th>type</th>\n",
              "      <th>level</th>\n",
              "      <th>id</th>\n",
              "      <th>icv</th>\n",
              "      <th>tbv</th>\n",
              "    </tr>\n",
              "  </thead>\n",
              "  <tbody>\n",
              "    <tr>\n",
              "      <th>3</th>\n",
              "      <td>4</td>\n",
              "      <td>kirby127a_3_1_ax.img</td>\n",
              "      <td>Diencephalon_R</td>\n",
              "      <td>9678</td>\n",
              "      <td>10.0</td>\n",
              "      <td>335.0</td>\n",
              "      <td>193.7051</td>\n",
              "      <td>32.7869</td>\n",
              "      <td>1</td>\n",
              "      <td>1</td>\n",
              "      <td>127</td>\n",
              "      <td>1378295</td>\n",
              "      <td>1268519</td>\n",
              "    </tr>\n",
              "    <tr>\n",
              "      <th>839</th>\n",
              "      <td>840</td>\n",
              "      <td>kirby142a_3_1_ax.img</td>\n",
              "      <td>Diencephalon_R</td>\n",
              "      <td>9071</td>\n",
              "      <td>56.0</td>\n",
              "      <td>355.0</td>\n",
              "      <td>219.9847</td>\n",
              "      <td>34.1217</td>\n",
              "      <td>1</td>\n",
              "      <td>1</td>\n",
              "      <td>142</td>\n",
              "      <td>1404611</td>\n",
              "      <td>1297277</td>\n",
              "    </tr>\n",
              "    <tr>\n",
              "      <th>1675</th>\n",
              "      <td>1676</td>\n",
              "      <td>kirby239a_3_1_ax.img</td>\n",
              "      <td>Diencephalon_R</td>\n",
              "      <td>9004</td>\n",
              "      <td>33.0</td>\n",
              "      <td>333.0</td>\n",
              "      <td>224.5235</td>\n",
              "      <td>32.2017</td>\n",
              "      <td>1</td>\n",
              "      <td>1</td>\n",
              "      <td>239</td>\n",
              "      <td>1223704</td>\n",
              "      <td>1129450</td>\n",
              "    </tr>\n",
              "    <tr>\n",
              "      <th>2511</th>\n",
              "      <td>2512</td>\n",
              "      <td>kirby346a_3_1_ax.img</td>\n",
              "      <td>Diencephalon_R</td>\n",
              "      <td>8933</td>\n",
              "      <td>40.0</td>\n",
              "      <td>369.0</td>\n",
              "      <td>228.2285</td>\n",
              "      <td>32.9342</td>\n",
              "      <td>1</td>\n",
              "      <td>1</td>\n",
              "      <td>346</td>\n",
              "      <td>1361902</td>\n",
              "      <td>1294746</td>\n",
              "    </tr>\n",
              "    <tr>\n",
              "      <th>3347</th>\n",
              "      <td>3348</td>\n",
              "      <td>kirby422a_3_1_ax.img</td>\n",
              "      <td>Diencephalon_R</td>\n",
              "      <td>9722</td>\n",
              "      <td>64.0</td>\n",
              "      <td>386.0</td>\n",
              "      <td>215.4053</td>\n",
              "      <td>29.7035</td>\n",
              "      <td>1</td>\n",
              "      <td>1</td>\n",
              "      <td>422</td>\n",
              "      <td>1335701</td>\n",
              "      <td>1225587</td>\n",
              "    </tr>\n",
              "  </tbody>\n",
              "</table>\n",
              "</div>"
            ],
            "text/plain": [
              "      Unnamed: 0                 rawid             roi  ...   id      icv      tbv\n",
              "3              4  kirby127a_3_1_ax.img  Diencephalon_R  ...  127  1378295  1268519\n",
              "839          840  kirby142a_3_1_ax.img  Diencephalon_R  ...  142  1404611  1297277\n",
              "1675        1676  kirby239a_3_1_ax.img  Diencephalon_R  ...  239  1223704  1129450\n",
              "2511        2512  kirby346a_3_1_ax.img  Diencephalon_R  ...  346  1361902  1294746\n",
              "3347        3348  kirby422a_3_1_ax.img  Diencephalon_R  ...  422  1335701  1225587\n",
              "\n",
              "[5 rows x 13 columns]"
            ]
          },
          "metadata": {
            "tags": []
          },
          "execution_count": 65
        }
      ]
    },
    {
      "cell_type": "code",
      "metadata": {
        "id": "91oPhWhazjT4",
        "colab_type": "code",
        "colab": {
          "base_uri": "https://localhost:8080/",
          "height": 68
        },
        "outputId": "7ef8c7e8-cc00-4bca-fe19-12dfb4f9f05e"
      },
      "source": [
        "# Make volume column an array for regression\n",
        "\n",
        "D_R = df_R['volume'].values\n",
        "D_L = df_L['volume'].values\n",
        "D_L"
      ],
      "execution_count": 66,
      "outputs": [
        {
          "output_type": "execute_result",
          "data": {
            "text/plain": [
              "array([ 9683,  9156,  8937,  8828,  9749, 10023,  9315,  8120,  9519,\n",
              "        8996,  9035,  7066,  9107,  8992,  9072,  8801, 10137,  9552,\n",
              "        7396,  8634])"
            ]
          },
          "metadata": {
            "tags": []
          },
          "execution_count": 66
        }
      ]
    },
    {
      "cell_type": "code",
      "metadata": {
        "id": "PGNzfcKMvFts",
        "colab_type": "code",
        "colab": {
          "base_uri": "https://localhost:8080/",
          "height": 34
        },
        "outputId": "d8e84b4f-91d6-4e91-86e9-e7284f481e0c"
      },
      "source": [
        "# Regression\n",
        "\n",
        "beta1 = st.pearsonr(D_R, D_L)[0] * np.std(D_L) / np.std(D_R)\n",
        "beta0 = np.mean(D_L) - np.mean(D_R) * beta1\n",
        "print('Beta 0 is ',beta0,'; Beta 1 is ', beta1)"
      ],
      "execution_count": 87,
      "outputs": [
        {
          "output_type": "stream",
          "text": [
            "Beta 0 is  -694.1809221478507 ; Beta 1 is  1.0675677731655158\n"
          ],
          "name": "stdout"
        }
      ]
    },
    {
      "cell_type": "code",
      "metadata": {
        "id": "nPDO0CVR6R_c",
        "colab_type": "code",
        "colab": {
          "base_uri": "https://localhost:8080/",
          "height": 34
        },
        "outputId": "d8650ea1-57dc-4835-a202-51befe379416"
      },
      "source": [
        "n = len(D_R)\n",
        "total = 0\n",
        "for i in range(0,n):\n",
        "  total += math.pow((D_L[i] -  beta0 - beta1*D_R[i]),2)\n",
        "print('The in sample error rate is', total)\n"
      ],
      "execution_count": 83,
      "outputs": [
        {
          "output_type": "stream",
          "text": [
            "The in sample error rate is 832740.3005383236\n"
          ],
          "name": "stdout"
        }
      ]
    },
    {
      "cell_type": "code",
      "metadata": {
        "id": "4gVXzAWd3bKQ",
        "colab_type": "code",
        "colab": {
          "base_uri": "https://localhost:8080/",
          "height": 312
        },
        "outputId": "cc5b42b0-775c-4773-da7a-e98bf6426867"
      },
      "source": [
        "plt.figure()\n",
        "plt.scatter(D_R, D_L)\n",
        "plt.plot(D_R, beta0 + beta1 * D_R)\n",
        "plt.title('Predicting Left Diencephalon Volume with Right Diencephalon Volume')\n",
        "plt.xlabel('Right Diencephalon Volume')\n",
        "plt.ylabel('Left Diencephalon Volume')"
      ],
      "execution_count": 76,
      "outputs": [
        {
          "output_type": "execute_result",
          "data": {
            "text/plain": [
              "Text(0, 0.5, 'Left Diencephalon Volume')"
            ]
          },
          "metadata": {
            "tags": []
          },
          "execution_count": 76
        },
        {
          "output_type": "display_data",
          "data": {
            "image/png": "[encoded data removed]",
            "text/plain": [
              "<Figure size 432x288 with 1 Axes>"
            ]
          },
          "metadata": {
            "tags": []
          }
        }
      ]
    }
  ]
}