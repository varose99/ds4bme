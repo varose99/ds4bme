{
  "nbformat": 4,
  "nbformat_minor": 0,
  "metadata": {
    "colab": {
      "name": "CaffoFinal_vrose9.ipynb",
      "provenance": [],
      "include_colab_link": true
    },
    "kernelspec": {
      "name": "python3",
      "display_name": "Python 3"
    }
  },
  "cells": [
    {
      "cell_type": "markdown",
      "metadata": {
        "id": "view-in-github",
        "colab_type": "text"
      },
      "source": [
        "<a href=\"https://colab.research.google.com/github/vrose99/ds4bme/blob/master/CaffoFinal_vrose9.ipynb\" target=\"_parent\"><img src=\"https://colab.research.google.com/assets/colab-badge.svg\" alt=\"Open In Colab\"/></a>"
      ]
    },
    {
      "cell_type": "code",
      "metadata": {
        "id": "CNcIN2gEmB1G",
        "colab_type": "code",
        "colab": {}
      },
      "source": [
        "# Import libraries\n",
        "\n",
        "import numpy as np\n",
        "import pandas as pd\n",
        "import seaborn as sns\n",
        "import matplotlib.pyplot as plt\n",
        "import sklearn.linear_model as lm\n",
        "import sklearn as skl\n",
        "import statsmodels.formula.api as smf\n",
        "import statsmodels as sm\n",
        "import torch\n",
        "import torch.nn as nn\n",
        "\n",
        "sns.set()"
      ],
      "execution_count": 0,
      "outputs": []
    },
    {
      "cell_type": "code",
      "metadata": {
        "id": "amEYrSkjmHnN",
        "colab_type": "code",
        "colab": {
          "base_uri": "https://localhost:8080/",
          "height": 204
        },
        "outputId": "11f4f7ef-b657-413c-9cee-c4e8b5c78783"
      },
      "source": [
        "# Load in Data + Clean it\n",
        "df = pd.read_csv('https://query.data.world/s/5mzqvsmlvbvkshr7rh35onrfpvol4b')\n",
        "df = df.dropna()\n",
        "\n",
        "# make month and year columns \n",
        "df['year'] = df['dt'].str[:4].astype(int)\n",
        "df['month'] = df['dt'].str[5:7].astype(int)\n",
        "\n",
        "# make latitude and longitude floats instead of strings\n",
        "df['Latitude'] = df['Latitude'].str[:4].astype(float)\n",
        "df['Longitude'] = df['Longitude'].str[:4].astype(float)\n",
        "\n",
        "\n",
        "df.head()"
      ],
      "execution_count": 9,
      "outputs": [
        {
          "output_type": "execute_result",
          "data": {
            "text/html": [
              "<div>\n",
              "<style scoped>\n",
              "    .dataframe tbody tr th:only-of-type {\n",
              "        vertical-align: middle;\n",
              "    }\n",
              "\n",
              "    .dataframe tbody tr th {\n",
              "        vertical-align: top;\n",
              "    }\n",
              "\n",
              "    .dataframe thead th {\n",
              "        text-align: right;\n",
              "    }\n",
              "</style>\n",
              "<table border=\"1\" class=\"dataframe\">\n",
              "  <thead>\n",
              "    <tr style=\"text-align: right;\">\n",
              "      <th></th>\n",
              "      <th>dt</th>\n",
              "      <th>AverageTemperature</th>\n",
              "      <th>AverageTemperatureUncertainty</th>\n",
              "      <th>City</th>\n",
              "      <th>Country</th>\n",
              "      <th>Latitude</th>\n",
              "      <th>Longitude</th>\n",
              "      <th>year</th>\n",
              "      <th>month</th>\n",
              "    </tr>\n",
              "  </thead>\n",
              "  <tbody>\n",
              "    <tr>\n",
              "      <th>0</th>\n",
              "      <td>1849-01-01</td>\n",
              "      <td>26.704</td>\n",
              "      <td>1.435</td>\n",
              "      <td>Abidjan</td>\n",
              "      <td>Côte D'Ivoire</td>\n",
              "      <td>5.63</td>\n",
              "      <td>3.23</td>\n",
              "      <td>1849</td>\n",
              "      <td>1</td>\n",
              "    </tr>\n",
              "    <tr>\n",
              "      <th>1</th>\n",
              "      <td>1849-02-01</td>\n",
              "      <td>27.434</td>\n",
              "      <td>1.362</td>\n",
              "      <td>Abidjan</td>\n",
              "      <td>Côte D'Ivoire</td>\n",
              "      <td>5.63</td>\n",
              "      <td>3.23</td>\n",
              "      <td>1849</td>\n",
              "      <td>2</td>\n",
              "    </tr>\n",
              "    <tr>\n",
              "      <th>2</th>\n",
              "      <td>1849-03-01</td>\n",
              "      <td>28.101</td>\n",
              "      <td>1.612</td>\n",
              "      <td>Abidjan</td>\n",
              "      <td>Côte D'Ivoire</td>\n",
              "      <td>5.63</td>\n",
              "      <td>3.23</td>\n",
              "      <td>1849</td>\n",
              "      <td>3</td>\n",
              "    </tr>\n",
              "    <tr>\n",
              "      <th>3</th>\n",
              "      <td>1849-04-01</td>\n",
              "      <td>26.140</td>\n",
              "      <td>1.387</td>\n",
              "      <td>Abidjan</td>\n",
              "      <td>Côte D'Ivoire</td>\n",
              "      <td>5.63</td>\n",
              "      <td>3.23</td>\n",
              "      <td>1849</td>\n",
              "      <td>4</td>\n",
              "    </tr>\n",
              "    <tr>\n",
              "      <th>4</th>\n",
              "      <td>1849-05-01</td>\n",
              "      <td>25.427</td>\n",
              "      <td>1.200</td>\n",
              "      <td>Abidjan</td>\n",
              "      <td>Côte D'Ivoire</td>\n",
              "      <td>5.63</td>\n",
              "      <td>3.23</td>\n",
              "      <td>1849</td>\n",
              "      <td>5</td>\n",
              "    </tr>\n",
              "  </tbody>\n",
              "</table>\n",
              "</div>"
            ],
            "text/plain": [
              "           dt  AverageTemperature  ...  year month\n",
              "0  1849-01-01              26.704  ...  1849     1\n",
              "1  1849-02-01              27.434  ...  1849     2\n",
              "2  1849-03-01              28.101  ...  1849     3\n",
              "3  1849-04-01              26.140  ...  1849     4\n",
              "4  1849-05-01              25.427  ...  1849     5\n",
              "\n",
              "[5 rows x 9 columns]"
            ]
          },
          "metadata": {
            "tags": []
          },
          "execution_count": 9
        }
      ]
    },
    {
      "cell_type": "code",
      "metadata": {
        "id": "QRyMqyXimdct",
        "colab_type": "code",
        "colab": {}
      },
      "source": [
        "# Train - Test Split\n",
        "trainFraction = .75\n",
        "\n",
        "sample = np.random.uniform(size = 228175) < trainFraction\n",
        "trainingDat = df[sample]\n",
        "testingDat = df[~sample]"
      ],
      "execution_count": 0,
      "outputs": []
    },
    {
      "cell_type": "code",
      "metadata": {
        "id": "LdUrKN3xmtRq",
        "colab_type": "code",
        "colab": {
          "base_uri": "https://localhost:8080/",
          "height": 442
        },
        "outputId": "e0255173-e815-4e28-9a0f-63a4f27decb6"
      },
      "source": [
        "# Train + Fit Model\n",
        "results = smf.ols('AverageTemperature ~ month + year + Longitude + Latitude ', data = trainingDat).fit()\n",
        "print(results.summary2())"
      ],
      "execution_count": 14,
      "outputs": [
        {
          "output_type": "stream",
          "text": [
            "                    Results: Ordinary least squares\n",
            "=======================================================================\n",
            "Model:              OLS                Adj. R-squared:     0.397       \n",
            "Dependent Variable: AverageTemperature AIC:                1188991.7176\n",
            "Date:               2019-10-02 13:24   BIC:                1189041.9727\n",
            "No. Observations:   171276             Log-Likelihood:     -5.9449e+05 \n",
            "Df Model:           4                  F-statistic:        2.820e+04   \n",
            "Df Residuals:       171271             Prob (F-statistic): 0.00        \n",
            "R-squared:          0.397              Scale:              60.586      \n",
            "-------------------------------------------------------------------------\n",
            "               Coef.    Std.Err.       t       P>|t|     [0.025    0.975]\n",
            "-------------------------------------------------------------------------\n",
            "Intercept     24.1043     0.6062     39.7635   0.0000   22.9162   25.2924\n",
            "month          0.2994     0.0055     54.9188   0.0000    0.2887    0.3101\n",
            "year           0.0030     0.0003      9.5854   0.0000    0.0024    0.0036\n",
            "Longitude     -0.0142     0.0005    -29.6887   0.0000   -0.0151   -0.0133\n",
            "Latitude      -0.4444     0.0014   -320.4848   0.0000   -0.4471   -0.4417\n",
            "-----------------------------------------------------------------------\n",
            "Omnibus:              5048.933        Durbin-Watson:           0.424   \n",
            "Prob(Omnibus):        0.000           Jarque-Bera (JB):        5505.062\n",
            "Skew:                 -0.435          Prob(JB):                0.000   \n",
            "Kurtosis:             3.123           Condition No.:           61762   \n",
            "=======================================================================\n",
            "* The condition number is large (6e+04). This might indicate\n",
            "strong multicollinearity or other numerical problems.\n"
          ],
          "name": "stdout"
        }
      ]
    },
    {
      "cell_type": "code",
      "metadata": {
        "id": "UeQt7Kmkm-KZ",
        "colab_type": "code",
        "colab": {}
      },
      "source": [
        "# Assign variables\n",
        "x1_train = trainingDat['Latitude']\n",
        "x1_test = testingDat['Latitude']\n",
        "\n",
        "x2_train = trainingDat['Longitude']\n",
        "x2_test = testingDat['Longitude']\n",
        "\n",
        "x3_train = trainingDat['year']\n",
        "x3_test = testingDat['year']\n",
        "\n",
        "x4_train = trainingDat['month']\n",
        "x4_test = testingDat['month']\n",
        "\n",
        "y_train = trainingDat['AverageTemperature']\n",
        "y_test = testingDat['AverageTemperature']"
      ],
      "execution_count": 0,
      "outputs": []
    }
  ]
}