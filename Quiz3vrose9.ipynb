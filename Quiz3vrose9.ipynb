{
  "nbformat": 4,
  "nbformat_minor": 0,
  "metadata": {
    "colab": {
      "name": "Quiz3vrose9.ipynb",
      "provenance": [],
      "collapsed_sections": [],
      "include_colab_link": true
    },
    "kernelspec": {
      "name": "python3",
      "display_name": "Python 3"
    }
  },
  "cells": [
    {
      "cell_type": "markdown",
      "metadata": {
        "id": "view-in-github",
        "colab_type": "text"
      },
      "source": [
        "<a href=\"https://colab.research.google.com/github/vrose99/ds4bme/blob/master/Quiz3vrose9.ipynb\" target=\"_parent\"><img src=\"https://colab.research.google.com/assets/colab-badge.svg\" alt=\"Open In Colab\"/></a>"
      ]
    },
    {
      "cell_type": "markdown",
      "metadata": {
        "id": "ioeksLZlM7la",
        "colab_type": "text"
      },
      "source": [
        "#### Victoria Rose\n",
        "#### vrose9@jhu.edu\n",
        "#### vrose99"
      ]
    },
    {
      "cell_type": "code",
      "metadata": {
        "id": "mdFDMGHuMJHT",
        "colab_type": "code",
        "colab": {}
      },
      "source": [
        "# Import libraries\n",
        "\n",
        "import numpy as np\n",
        "import math\n",
        "from scipy import stats as st\n",
        "import pandas as pd\n",
        "import seaborn as sns\n",
        "import matplotlib.pyplot as plt\n",
        "from sklearn.linear_model import LinearRegression\n",
        "\n",
        "import sklearn.linear_model as lm"
      ],
      "execution_count": 0,
      "outputs": []
    },
    {
      "cell_type": "markdown",
      "metadata": {
        "id": "xMFEGLrXOQ-C",
        "colab_type": "text"
      },
      "source": [
        "### Question 1 "
      ]
    },
    {
      "cell_type": "code",
      "metadata": {
        "id": "L1IYehfLNch0",
        "colab_type": "code",
        "outputId": "4fed3d31-dbf4-4e1f-8492-251ddd432d19",
        "colab": {
          "base_uri": "https://localhost:8080/",
          "height": 312
        }
      },
      "source": [
        "# Part 1\n",
        "df = pd.read_csv('https://raw.githubusercontent.com/bcaffo/ds4bme_intro/master/data/orings.csv')\n",
        "y = [0]*len(df)\n",
        "for i in range(len(df)):\n",
        "  if  df['Total'][i] >= 1:\n",
        "    y[i] = 0\n",
        "  else:\n",
        "    y[i] = 1\n",
        "df['Success'] = y\n",
        "#df.head(n=10)\n",
        "plt.figure()\n",
        "plt.scatter(df['Temperature'],df['Success'])\n",
        "plt.title('Success vs Temperature')\n",
        "plt.ylabel('1 = failure and 0 = success')\n",
        "plt.xlabel('Temperature')"
      ],
      "execution_count": 5,
      "outputs": [
        {
          "output_type": "execute_result",
          "data": {
            "text/plain": [
              "Text(0.5, 0, 'Temperature')"
            ]
          },
          "metadata": {
            "tags": []
          },
          "execution_count": 5
        },
        {
          "output_type": "display_data",
          "data": {
            "image/png": "[encoded data removed]",
            "text/plain": [
              "<Figure size 432x288 with 1 Axes>"
            ]
          },
          "metadata": {
            "tags": []
          }
        }
      ]
    },
    {
      "cell_type": "code",
      "metadata": {
        "id": "8q-Udh6mNmIZ",
        "colab_type": "code",
        "outputId": "51e041cc-c3a7-47c6-d8d1-5da6585cbc2b",
        "colab": {
          "base_uri": "https://localhost:8080/",
          "height": 312
        }
      },
      "source": [
        "lr = lm.LogisticRegression(fit_intercept=True,solver='newton-cg')\n",
        "temp = df['Temperature'].values\n",
        "succ = df['Success'].values\n",
        "type(temp)\n",
        "#fit = lr.fit(df['Temperature'].reshape(1, -1),df['Success'].reshape(1, -1))\n",
        "fit = lr.fit(temp.reshape(-1,1),succ)\n",
        "beta0, beta1 = [fit.intercept_[0], fit.coef_[0][0]]\n",
        "plt.scatter(temp,succ)\n",
        "n = 1000\n",
        "xplot = np.linspace(min(temp), max(temp), n)\n",
        "eta = beta0 + beta1 * xplot\n",
        "p = 1 / (1 + np.exp(-eta))\n",
        "plt.plot(xplot,p)\n",
        "plt.title('Success vs Temperature')\n",
        "plt.ylabel('1 = failure and 0 = success')\n",
        "plt.xlabel('Temperature')"
      ],
      "execution_count": 6,
      "outputs": [
        {
          "output_type": "execute_result",
          "data": {
            "text/plain": [
              "Text(0.5, 0, 'Temperature')"
            ]
          },
          "metadata": {
            "tags": []
          },
          "execution_count": 6
        },
        {
          "output_type": "display_data",
          "data": {
            "image/png": "[encoded data removed]",
            "text/plain": [
              "<Figure size 432x288 with 1 Axes>"
            ]
          },
          "metadata": {
            "tags": []
          }
        }
      ]
    },
    {
      "cell_type": "code",
      "metadata": {
        "id": "XKhNihXyThNN",
        "colab_type": "code",
        "outputId": "c4901e47-b6dc-4f20-f2a2-286939703bd8",
        "colab": {
          "base_uri": "https://localhost:8080/",
          "height": 34
        }
      },
      "source": [
        "range = max(temp)-min(temp)\n",
        "position = (range)/1000\n",
        "seventyfour = (1 - p[int((74-min(temp))/position)])*100\n",
        "print('The probability of failure at 74 degrees is %f percent' %seventyfour)"
      ],
      "execution_count": 7,
      "outputs": [
        {
          "output_type": "stream",
          "text": [
            "The probability of failure at 74 degrees is 10.660164 percent\n"
          ],
          "name": "stdout"
        }
      ]
    },
    {
      "cell_type": "markdown",
      "metadata": {
        "id": "TX459ATOahb0",
        "colab_type": "text"
      },
      "source": [
        "#### Question 2"
      ]
    },
    {
      "cell_type": "markdown",
      "metadata": {
        "id": "Y5VXnj5ufZ9-",
        "colab_type": "text"
      },
      "source": [
        "### Part a\n",
        "$$P(Y_i = 1 | x_i) = \\frac{e^{\\beta_0(1-x_i)+\\beta_1X_i}}{1 + e^{\\beta_0(1-x_i)+\\beta_1X_i}}$$\n",
        "$$\\text{and then we let: }\\theta(\\beta_0,\\beta_1,X_i) = e^{\\beta_0(1-x_i)+\\beta_1X_i}$$\n",
        "$$\\displaystyle\\prod_{i=1}^{n}\\theta(\\beta_0,\\beta_1,X_i)^{Y_i}[1 - \\theta(\\beta_0,\\beta_1,X_i)]^{1 - Y_i}$$\\\n",
        "$$ * = \\displaystyle\\prod_{i=1}^{n}  (\\frac{e^{\\beta_0(1-x_i)+\\beta_1X_i}}{1 + e^{\\beta_0(1-x_i)+\\beta_1X_i}})^{Y_i}(\\frac{1}{1+ e^{\\beta_0(1-x_i)+\\beta_1X_i}})^{1-Y_i}$$\\\n",
        "$$ log(*) = \\sum_{i =1}^{n}(\\beta_0(1-X_i)+\\beta_1X_i)Y_i - \\sum_{i=1}^{n}log(1+e^{\\beta_0(1-x_i)+\\beta_1X_i})$$"
      ]
    },
    {
      "cell_type": "markdown",
      "metadata": {
        "id": "0pxae_IAjzqf",
        "colab_type": "text"
      },
      "source": [
        "### Part b\n",
        "$$\\text{When }x_i = 0 \\text{ and } X_i =1$$\n",
        "$$* = \\sum_{X_i=0,\\text{  }Y_i=1,0}^{n}\\beta_0Y_i - \\sum_{X_i=0,\\text{  }Y_i=1,0}^{n}log(1+e^{\\beta_0}) + \\sum_{X_i=1,\\text{  }Y_i=1,0}^{n}\\beta_0Y_i - \\sum_{X_i=1,\\text{  }Y_i=1,0}^{n}log(1+e^{\\beta_0}) $$\n",
        "\n",
        "### Part c\n",
        "$$\\text{Then we take the derivative to find the point of interest}$$\n",
        "\n",
        "$$\\frac{\\partial}{\\partial {\\beta_0}}(*) = \\sum_{X_i=0,\\text{  }Y_i=1,0}^{n}(Y_i-\\frac{e^{\\beta_0}}{1+e^{\\beta_0}}) = 0$$\n",
        "\n",
        "$$n\\bar{y}^{(0)} - \\frac{ne^{\\beta_0}}{1+e^{\\beta_0}} = 0$$\n",
        "$$\\bar{y}^{(0)} = \\frac{e^{\\beta_0}}{1+e^{\\beta_0}}$$\n",
        " \n",
        "  \n",
        "$$\\bar{y}^{(0)} + \\bar{y}^{(0)}e^{\\beta_0} = e^{\\beta_0}$$\n",
        "$$ \\bar{y}^{(0)} = e^{\\beta_0}-e^{\\beta_0}\\bar{y}^{(0)}$$\n",
        "\n",
        "$$\\frac{\\bar{y}^{(0)}}{1-\\bar{y}^{(0)}} = e^{\\beta_0}$$\n",
        "$$\\hat{\\beta_0} = log(\\frac{\\bar{y}^{(0)}}{1-\\bar{y}^{(0)}} )$$\n",
        "$$\\text{This extends symmetrically for } \\beta_1 :$$\n",
        "$$\\frac{\\partial}{\\partial {\\beta_1}}(*) = \\sum_{X_i=1,\\text{  }Y_i=1,0}^{n}(Y_i-\\frac{e^{\\beta_1}}{1+e^{\\beta_1}}) = 0$$\n",
        "$$\\text{The same steps as those for } \\beta_0 \\text{ extend for }\\beta_1 \\text{to end up with}$$\n",
        "$$\\hat{\\beta_1} = log(\\frac{\\bar{y}^{(1)}}{1-\\bar{y}^{(1)}} )$$"
      ]
    },
    {
      "cell_type": "markdown",
      "metadata": {
        "id": "6o6Ijy_wrpMZ",
        "colab_type": "text"
      },
      "source": [
        "### Question 3"
      ]
    },
    {
      "cell_type": "code",
      "metadata": {
        "id": "GXbWzvSarQHT",
        "colab_type": "code",
        "colab": {
          "base_uri": "https://localhost:8080/",
          "height": 1000
        },
        "outputId": "7e8d99cc-5c01-4b52-82ef-6b59677b8c4b"
      },
      "source": [
        "df = pd.read_csv('https://raw.githubusercontent.com/vrose99/ds4bme/master/ufo-sightings-QueryResult.csv')\n",
        "df.head(n=10)"
      ],
      "execution_count": 9,
      "outputs": [
        {
          "output_type": "execute_result",
          "data": {
            "text/html": [
              "<div>\n",
              "<style scoped>\n",
              "    .dataframe tbody tr th:only-of-type {\n",
              "        vertical-align: middle;\n",
              "    }\n",
              "\n",
              "    .dataframe tbody tr th {\n",
              "        vertical-align: top;\n",
              "    }\n",
              "\n",
              "    .dataframe thead th {\n",
              "        text-align: right;\n",
              "    }\n",
              "</style>\n",
              "<table border=\"1\" class=\"dataframe\">\n",
              "  <thead>\n",
              "    <tr style=\"text-align: right;\">\n",
              "      <th></th>\n",
              "      <th>summary</th>\n",
              "      <th>city</th>\n",
              "      <th>state</th>\n",
              "      <th>date_time</th>\n",
              "      <th>shape</th>\n",
              "      <th>duration</th>\n",
              "      <th>stats</th>\n",
              "      <th>report_link</th>\n",
              "      <th>text</th>\n",
              "      <th>posted</th>\n",
              "      <th>city_latitude</th>\n",
              "      <th>city_location</th>\n",
              "      <th>city_longitude</th>\n",
              "    </tr>\n",
              "  </thead>\n",
              "  <tbody>\n",
              "    <tr>\n",
              "      <th>0</th>\n",
              "      <td>Three saucer shaped ships.  High in the sky, m...</td>\n",
              "      <td>Salem</td>\n",
              "      <td>OR</td>\n",
              "      <td>NaN</td>\n",
              "      <td>disk</td>\n",
              "      <td>15 minutes</td>\n",
              "      <td>Occurred : 8/15/1950 14:00  (Entered as : 08/1...</td>\n",
              "      <td>http://www.nuforc.org/webreports/135/S135871.html</td>\n",
              "      <td>Three saucer shaped ships.  High in the sky, m...</td>\n",
              "      <td>NaN</td>\n",
              "      <td>44.941247</td>\n",
              "      <td>POINT(-123.00423516160726 44.941247110675775)</td>\n",
              "      <td>-123.004235</td>\n",
              "    </tr>\n",
              "    <tr>\n",
              "      <th>1</th>\n",
              "      <td>Tear-drop shaped silent craft with sectional f...</td>\n",
              "      <td>Ellsworth</td>\n",
              "      <td>ME</td>\n",
              "      <td>NaN</td>\n",
              "      <td>teardrop</td>\n",
              "      <td>5 minutes</td>\n",
              "      <td>Occurred : 8/15/1967 21:30  (Entered as : 08/0...</td>\n",
              "      <td>http://www.nuforc.org/webreports/132/S132451.html</td>\n",
              "      <td>Tear-drop shaped silent craft with sectional f...</td>\n",
              "      <td>NaN</td>\n",
              "      <td>44.651300</td>\n",
              "      <td>POINT(-68.45069999999998 44.6513)</td>\n",
              "      <td>-68.450700</td>\n",
              "    </tr>\n",
              "    <tr>\n",
              "      <th>2</th>\n",
              "      <td>Two UFOs over Rockville, MD.  ((anonymous repo...</td>\n",
              "      <td>Rockville</td>\n",
              "      <td>MD</td>\n",
              "      <td>2017-03-17T02:00:00</td>\n",
              "      <td>changing</td>\n",
              "      <td>5</td>\n",
              "      <td>Occurred : 3/17/2017 02:00  (Entered as : 3/17...</td>\n",
              "      <td>http://www.nuforc.org/webreports/133/S133154.html</td>\n",
              "      <td>Two UFOs over Rockville, MD. The two object ap...</td>\n",
              "      <td>2017-03-17T00:00:00</td>\n",
              "      <td>39.077938</td>\n",
              "      <td>POINT(-77.14956651162731 39.07793837209271)</td>\n",
              "      <td>-77.149567</td>\n",
              "    </tr>\n",
              "    <tr>\n",
              "      <th>3</th>\n",
              "      <td>We saw two red dots of apparent unearthly origin.</td>\n",
              "      <td>Grand Rapids</td>\n",
              "      <td>MI</td>\n",
              "      <td>1996-08-15T02:30:00</td>\n",
              "      <td>light</td>\n",
              "      <td>20 minutes</td>\n",
              "      <td>Occurred : 8/15/1996 02:30  (Entered as : 2 we...</td>\n",
              "      <td>http://www.nuforc.org/webreports/002/S02057.html</td>\n",
              "      <td>Summary : We saw two red dots of apparent unea...</td>\n",
              "      <td>1998-03-07T00:00:00</td>\n",
              "      <td>42.943342</td>\n",
              "      <td>POINT(-85.64301557417605 42.94334184327165)</td>\n",
              "      <td>-85.643016</td>\n",
              "    </tr>\n",
              "    <tr>\n",
              "      <th>4</th>\n",
              "      <td>CAPSULE SHAPED CRAFT RAPIDLY DESCENDS INTO WAR...</td>\n",
              "      <td>Fords</td>\n",
              "      <td>NJ</td>\n",
              "      <td>2017-04-29T19:05:00</td>\n",
              "      <td>other</td>\n",
              "      <td>30 seconds</td>\n",
              "      <td>Occurred : 4/29/2017 19:05  (Entered as : 4/29...</td>\n",
              "      <td>http://www.nuforc.org/webreports/133/S133934.html</td>\n",
              "      <td>CAPSULE SHAPED CRAFT RAPIDLY DESCENDS INTO WAR...</td>\n",
              "      <td>2017-05-06T00:00:00</td>\n",
              "      <td>40.537700</td>\n",
              "      <td>POINT(-74.31109999999993 40.53770000000003)</td>\n",
              "      <td>-74.311100</td>\n",
              "    </tr>\n",
              "    <tr>\n",
              "      <th>5</th>\n",
              "      <td>A stationary bowl shaped object with colored l...</td>\n",
              "      <td>Dahlonega</td>\n",
              "      <td>GA</td>\n",
              "      <td>2000-09-09T22:30:00</td>\n",
              "      <td>changing</td>\n",
              "      <td>at least 1 hour</td>\n",
              "      <td>Occurred : 9/9/2000 22:30  (Entered as : 09/09...</td>\n",
              "      <td>http://www.nuforc.org/webreports/014/S14085.html</td>\n",
              "      <td>A stationary bowl shaped object with colored l...</td>\n",
              "      <td>2000-09-17T00:00:00</td>\n",
              "      <td>34.532548</td>\n",
              "      <td>POINT(-83.98485789473699 34.53254842105263)</td>\n",
              "      <td>-83.984858</td>\n",
              "    </tr>\n",
              "    <tr>\n",
              "      <th>6</th>\n",
              "      <td>I am a police officer in Portugal, Azores, Ter...</td>\n",
              "      <td>Praia da Vitoria (Azores)(Portugal)</td>\n",
              "      <td>NaN</td>\n",
              "      <td>2015-07-25T01:15:00</td>\n",
              "      <td>other</td>\n",
              "      <td>30 seconds</td>\n",
              "      <td>Occurred : 7/25/2015 01:15  (Entered as : 07/2...</td>\n",
              "      <td>http://www.nuforc.org/webreports/120/S120625.html</td>\n",
              "      <td>I am a police officer in Portugal, Azores, Ter...</td>\n",
              "      <td>2015-07-31T00:00:00</td>\n",
              "      <td>NaN</td>\n",
              "      <td>NaN</td>\n",
              "      <td>NaN</td>\n",
              "    </tr>\n",
              "    <tr>\n",
              "      <th>7</th>\n",
              "      <td>Two bright orange lights through the trees.  (...</td>\n",
              "      <td>Tumwater</td>\n",
              "      <td>WA</td>\n",
              "      <td>2015-07-25T03:00:00</td>\n",
              "      <td>fireball</td>\n",
              "      <td>Ongoing</td>\n",
              "      <td>Occurred : 7/25/2015 03:00  (Entered as : 07/2...</td>\n",
              "      <td>http://www.nuforc.org/webreports/120/S120637.html</td>\n",
              "      <td>I just wrote a report a few days ago.   Am nan...</td>\n",
              "      <td>2015-07-31T00:00:00</td>\n",
              "      <td>47.007300</td>\n",
              "      <td>POINT(-122.9093 47.0073)</td>\n",
              "      <td>-122.909300</td>\n",
              "    </tr>\n",
              "    <tr>\n",
              "      <th>8</th>\n",
              "      <td>Never seen anything like that before. Definite...</td>\n",
              "      <td>Neoga</td>\n",
              "      <td>IL</td>\n",
              "      <td>2015-07-25T10:40:00</td>\n",
              "      <td>fireball</td>\n",
              "      <td>1-2 minutes</td>\n",
              "      <td>Occurred : 7/25/2015 10:40  (Entered as : 07/2...</td>\n",
              "      <td>http://www.nuforc.org/webreports/120/S120655.html</td>\n",
              "      <td>Never seen anything like that before.  Definit...</td>\n",
              "      <td>2015-07-31T00:00:00</td>\n",
              "      <td>39.310300</td>\n",
              "      <td>POINT(-88.4485 39.3103)</td>\n",
              "      <td>-88.448500</td>\n",
              "    </tr>\n",
              "    <tr>\n",
              "      <th>9</th>\n",
              "      <td>The photo I took had a total of three objects.</td>\n",
              "      <td>Hutto</td>\n",
              "      <td>TX</td>\n",
              "      <td>2015-07-25T16:45:00</td>\n",
              "      <td>triangle</td>\n",
              "      <td>5 minutes</td>\n",
              "      <td>Occurred : 7/25/2015 16:45  (Entered as : 07/2...</td>\n",
              "      <td>http://www.nuforc.org/webreports/120/S120646.html</td>\n",
              "      <td>The photo I took had a total of three objects....</td>\n",
              "      <td>2015-07-31T00:00:00</td>\n",
              "      <td>30.542700</td>\n",
              "      <td>POINT(-97.54669999999996 30.542699999999982)</td>\n",
              "      <td>-97.546700</td>\n",
              "    </tr>\n",
              "  </tbody>\n",
              "</table>\n",
              "</div>"
            ],
            "text/plain": [
              "                                             summary  ... city_longitude\n",
              "0  Three saucer shaped ships.  High in the sky, m...  ...    -123.004235\n",
              "1  Tear-drop shaped silent craft with sectional f...  ...     -68.450700\n",
              "2  Two UFOs over Rockville, MD.  ((anonymous repo...  ...     -77.149567\n",
              "3  We saw two red dots of apparent unearthly origin.  ...     -85.643016\n",
              "4  CAPSULE SHAPED CRAFT RAPIDLY DESCENDS INTO WAR...  ...     -74.311100\n",
              "5  A stationary bowl shaped object with colored l...  ...     -83.984858\n",
              "6  I am a police officer in Portugal, Azores, Ter...  ...            NaN\n",
              "7  Two bright orange lights through the trees.  (...  ...    -122.909300\n",
              "8  Never seen anything like that before. Definite...  ...     -88.448500\n",
              "9     The photo I took had a total of three objects.  ...     -97.546700\n",
              "\n",
              "[10 rows x 13 columns]"
            ]
          },
          "metadata": {
            "tags": []
          },
          "execution_count": 9
        }
      ]
    },
    {
      "cell_type": "markdown",
      "metadata": {
        "id": "GZ1aDMTVr6fO",
        "colab_type": "text"
      },
      "source": [
        "I know there would have to be some basic data cleaning on the time column in order to use those numbers, I am not sure if that would be better or if I just want to count sightings total "
      ]
    }
  ]
}