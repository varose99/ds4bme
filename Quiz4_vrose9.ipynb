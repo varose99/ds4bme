{
  "nbformat": 4,
  "nbformat_minor": 0,
  "metadata": {
    "colab": {
      "name": "Quiz4_vrose9.ipynb",
      "provenance": [],
      "collapsed_sections": [],
      "include_colab_link": true
    },
    "kernelspec": {
      "name": "python3",
      "display_name": "Python 3"
    }
  },
  "cells": [
    {
      "cell_type": "markdown",
      "metadata": {
        "id": "view-in-github",
        "colab_type": "text"
      },
      "source": [
        "<a href=\"https://colab.research.google.com/github/vrose99/ds4bme/blob/master/Quiz4_vrose9.ipynb\" target=\"_parent\"><img src=\"https://colab.research.google.com/assets/colab-badge.svg\" alt=\"Open In Colab\"/></a>"
      ]
    },
    {
      "cell_type": "markdown",
      "metadata": {
        "id": "WngQONb_Z47_",
        "colab_type": "text"
      },
      "source": [
        "### Victoria Rose\n",
        "### vrose9@jh.edu\n",
        "### Quiz 4"
      ]
    },
    {
      "cell_type": "code",
      "metadata": {
        "id": "cygxGvseZ1wj",
        "colab_type": "code",
        "colab": {}
      },
      "source": [
        "import numpy as np\n",
        "import pandas as pd\n",
        "import seaborn as sns\n",
        "import matplotlib.pyplot as plt\n",
        "import sklearn.linear_model as lm\n",
        "import sklearn as skl\n",
        "import statsmodels.formula.api as smf\n",
        "import statsmodels as sm"
      ],
      "execution_count": 0,
      "outputs": []
    },
    {
      "cell_type": "markdown",
      "metadata": {
        "id": "GW4-uW7_c4m4",
        "colab_type": "text"
      },
      "source": [
        "# Question 1"
      ]
    },
    {
      "cell_type": "code",
      "metadata": {
        "id": "vq1VezMqZ9qb",
        "colab_type": "code",
        "outputId": "d069c339-aff8-4a8a-fb9c-e37214d5ae35",
        "colab": {
          "base_uri": "https://localhost:8080/",
          "height": 204
        }
      },
      "source": [
        "# Download in the data if it's not already there\n",
        "! if [ ! -e kirby21.csv ]; \\\n",
        "then wget https://raw.githubusercontent.com/bcaffo/ds4bme_intro/master/data/kirby21.csv; \\\n",
        "fi;\n",
        "\n",
        "# Read in the data and display a few rows\n",
        "dat = pd.read_csv(\"kirby21.csv\")\n",
        "#dat['csf'] = dat['icv'] - dat['tbv'] \n",
        "dat.head()"
      ],
      "execution_count": 139,
      "outputs": [
        {
          "output_type": "execute_result",
          "data": {
            "text/html": [
              "<div>\n",
              "<style scoped>\n",
              "    .dataframe tbody tr th:only-of-type {\n",
              "        vertical-align: middle;\n",
              "    }\n",
              "\n",
              "    .dataframe tbody tr th {\n",
              "        vertical-align: top;\n",
              "    }\n",
              "\n",
              "    .dataframe thead th {\n",
              "        text-align: right;\n",
              "    }\n",
              "</style>\n",
              "<table border=\"1\" class=\"dataframe\">\n",
              "  <thead>\n",
              "    <tr style=\"text-align: right;\">\n",
              "      <th></th>\n",
              "      <th>Unnamed: 0</th>\n",
              "      <th>rawid</th>\n",
              "      <th>roi</th>\n",
              "      <th>volume</th>\n",
              "      <th>min</th>\n",
              "      <th>max</th>\n",
              "      <th>mean</th>\n",
              "      <th>std</th>\n",
              "      <th>type</th>\n",
              "      <th>level</th>\n",
              "      <th>id</th>\n",
              "      <th>icv</th>\n",
              "      <th>tbv</th>\n",
              "    </tr>\n",
              "  </thead>\n",
              "  <tbody>\n",
              "    <tr>\n",
              "      <th>0</th>\n",
              "      <td>1</td>\n",
              "      <td>kirby127a_3_1_ax.img</td>\n",
              "      <td>Telencephalon_L</td>\n",
              "      <td>531111</td>\n",
              "      <td>0.0</td>\n",
              "      <td>374.0</td>\n",
              "      <td>128.3013</td>\n",
              "      <td>51.8593</td>\n",
              "      <td>1</td>\n",
              "      <td>1</td>\n",
              "      <td>127</td>\n",
              "      <td>1378295</td>\n",
              "      <td>1268519</td>\n",
              "    </tr>\n",
              "    <tr>\n",
              "      <th>1</th>\n",
              "      <td>2</td>\n",
              "      <td>kirby127a_3_1_ax.img</td>\n",
              "      <td>Telencephalon_R</td>\n",
              "      <td>543404</td>\n",
              "      <td>0.0</td>\n",
              "      <td>300.0</td>\n",
              "      <td>135.0683</td>\n",
              "      <td>53.6471</td>\n",
              "      <td>1</td>\n",
              "      <td>1</td>\n",
              "      <td>127</td>\n",
              "      <td>1378295</td>\n",
              "      <td>1268519</td>\n",
              "    </tr>\n",
              "    <tr>\n",
              "      <th>2</th>\n",
              "      <td>3</td>\n",
              "      <td>kirby127a_3_1_ax.img</td>\n",
              "      <td>Diencephalon_L</td>\n",
              "      <td>9683</td>\n",
              "      <td>15.0</td>\n",
              "      <td>295.0</td>\n",
              "      <td>193.5488</td>\n",
              "      <td>32.2733</td>\n",
              "      <td>1</td>\n",
              "      <td>1</td>\n",
              "      <td>127</td>\n",
              "      <td>1378295</td>\n",
              "      <td>1268519</td>\n",
              "    </tr>\n",
              "    <tr>\n",
              "      <th>3</th>\n",
              "      <td>4</td>\n",
              "      <td>kirby127a_3_1_ax.img</td>\n",
              "      <td>Diencephalon_R</td>\n",
              "      <td>9678</td>\n",
              "      <td>10.0</td>\n",
              "      <td>335.0</td>\n",
              "      <td>193.7051</td>\n",
              "      <td>32.7869</td>\n",
              "      <td>1</td>\n",
              "      <td>1</td>\n",
              "      <td>127</td>\n",
              "      <td>1378295</td>\n",
              "      <td>1268519</td>\n",
              "    </tr>\n",
              "    <tr>\n",
              "      <th>4</th>\n",
              "      <td>5</td>\n",
              "      <td>kirby127a_3_1_ax.img</td>\n",
              "      <td>Mesencephalon</td>\n",
              "      <td>10268</td>\n",
              "      <td>55.0</td>\n",
              "      <td>307.0</td>\n",
              "      <td>230.8583</td>\n",
              "      <td>29.2249</td>\n",
              "      <td>1</td>\n",
              "      <td>1</td>\n",
              "      <td>127</td>\n",
              "      <td>1378295</td>\n",
              "      <td>1268519</td>\n",
              "    </tr>\n",
              "  </tbody>\n",
              "</table>\n",
              "</div>"
            ],
            "text/plain": [
              "   Unnamed: 0                 rawid              roi  ...   id      icv      tbv\n",
              "0           1  kirby127a_3_1_ax.img  Telencephalon_L  ...  127  1378295  1268519\n",
              "1           2  kirby127a_3_1_ax.img  Telencephalon_R  ...  127  1378295  1268519\n",
              "2           3  kirby127a_3_1_ax.img   Diencephalon_L  ...  127  1378295  1268519\n",
              "3           4  kirby127a_3_1_ax.img   Diencephalon_R  ...  127  1378295  1268519\n",
              "4           5  kirby127a_3_1_ax.img    Mesencephalon  ...  127  1378295  1268519\n",
              "\n",
              "[5 rows x 13 columns]"
            ]
          },
          "metadata": {
            "tags": []
          },
          "execution_count": 139
        }
      ]
    },
    {
      "cell_type": "code",
      "metadata": {
        "id": "JrnpHnCiaZTX",
        "colab_type": "code",
        "outputId": "35df4bf2-53de-4917-f1a6-fd381978c994",
        "colab": {
          "base_uri": "https://localhost:8080/",
          "height": 204
        }
      },
      "source": [
        "# Make a data Frame\n",
        "df = pd.read_csv(\"kirby21.csv\")\n",
        "df_L = df.loc[df['roi']=='Diencephalon_L']\n",
        "df_R = df.loc[df['roi']=='Diencephalon_R']\n",
        "df_y = df.loc[df['roi']=='CSF']\n",
        "#df_L.head()\n",
        "#df_R.head()\n",
        "x1 = df_L['volume'].tolist()\n",
        "x2 = df_R['volume'].tolist()\n",
        "y_temp = df_y['volume'].tolist()\n",
        "y = []\n",
        "for i in range(len(y_temp)):\n",
        "  if i % 2 == 0:\n",
        "    y.append(y_temp[i])\n",
        "#will be the same whether taken from df_L or df_R\n",
        "#pred = pd.DataFrame([x1, x2, y],columns=['x1','x2','y'])\n",
        "df = pd.DataFrame([x1,x2,y])\n",
        "df = df.transpose()\n",
        "df.columns = ['x1','x2','y']\n",
        "df.head()"
      ],
      "execution_count": 140,
      "outputs": [
        {
          "output_type": "execute_result",
          "data": {
            "text/html": [
              "<div>\n",
              "<style scoped>\n",
              "    .dataframe tbody tr th:only-of-type {\n",
              "        vertical-align: middle;\n",
              "    }\n",
              "\n",
              "    .dataframe tbody tr th {\n",
              "        vertical-align: top;\n",
              "    }\n",
              "\n",
              "    .dataframe thead th {\n",
              "        text-align: right;\n",
              "    }\n",
              "</style>\n",
              "<table border=\"1\" class=\"dataframe\">\n",
              "  <thead>\n",
              "    <tr style=\"text-align: right;\">\n",
              "      <th></th>\n",
              "      <th>x1</th>\n",
              "      <th>x2</th>\n",
              "      <th>y</th>\n",
              "    </tr>\n",
              "  </thead>\n",
              "  <tbody>\n",
              "    <tr>\n",
              "      <th>0</th>\n",
              "      <td>9683</td>\n",
              "      <td>9678</td>\n",
              "      <td>109776</td>\n",
              "    </tr>\n",
              "    <tr>\n",
              "      <th>1</th>\n",
              "      <td>9156</td>\n",
              "      <td>9071</td>\n",
              "      <td>107334</td>\n",
              "    </tr>\n",
              "    <tr>\n",
              "      <th>2</th>\n",
              "      <td>8937</td>\n",
              "      <td>9004</td>\n",
              "      <td>94254</td>\n",
              "    </tr>\n",
              "    <tr>\n",
              "      <th>3</th>\n",
              "      <td>8828</td>\n",
              "      <td>8933</td>\n",
              "      <td>67156</td>\n",
              "    </tr>\n",
              "    <tr>\n",
              "      <th>4</th>\n",
              "      <td>9749</td>\n",
              "      <td>9722</td>\n",
              "      <td>110114</td>\n",
              "    </tr>\n",
              "  </tbody>\n",
              "</table>\n",
              "</div>"
            ],
            "text/plain": [
              "     x1    x2       y\n",
              "0  9683  9678  109776\n",
              "1  9156  9071  107334\n",
              "2  8937  9004   94254\n",
              "3  8828  8933   67156\n",
              "4  9749  9722  110114"
            ]
          },
          "metadata": {
            "tags": []
          },
          "execution_count": 140
        }
      ]
    },
    {
      "cell_type": "code",
      "metadata": {
        "id": "aFB4n1tTbVhy",
        "colab_type": "code",
        "outputId": "73502ee4-78de-4fa2-bdfa-e4643f874e3e",
        "colab": {
          "base_uri": "https://localhost:8080/",
          "height": 408
        }
      },
      "source": [
        "results = smf.ols('y ~ x1+ x2', data = df).fit()\n",
        "print(results.summary2())"
      ],
      "execution_count": 141,
      "outputs": [
        {
          "output_type": "stream",
          "text": [
            "                    Results: Ordinary least squares\n",
            "=======================================================================\n",
            "Model:                OLS               Adj. R-squared:      0.128     \n",
            "Dependent Variable:   y                 AIC:                 454.0017  \n",
            "Date:                 2019-09-27 02:23  BIC:                 456.9889  \n",
            "No. Observations:     20                Log-Likelihood:      -224.00   \n",
            "Df Model:             2                 F-statistic:         2.394     \n",
            "Df Residuals:         17                Prob (F-statistic):  0.121     \n",
            "R-squared:            0.220             Scale:               3.6842e+08\n",
            "-----------------------------------------------------------------------\n",
            "            Coef.     Std.Err.     t    P>|t|     [0.025       0.975]  \n",
            "-----------------------------------------------------------------------\n",
            "Intercept -2449.7146 59324.5017 -0.0413 0.9675 -127613.4723 122714.0432\n",
            "x1           23.9403    21.0337  1.1382 0.2708     -20.4370     68.3175\n",
            "x2          -13.7653    23.3248 -0.5902 0.5628     -62.9763     35.4458\n",
            "-----------------------------------------------------------------------\n",
            "Omnibus:                0.679          Durbin-Watson:            2.013 \n",
            "Prob(Omnibus):          0.712          Jarque-Bera (JB):         0.646 \n",
            "Skew:                   -0.064         Prob(JB):                 0.724 \n",
            "Kurtosis:               2.129          Condition No.:            177374\n",
            "=======================================================================\n",
            "* The condition number is large (2e+05). This might indicate\n",
            "strong multicollinearity or other numerical problems.\n"
          ],
          "name": "stdout"
        }
      ]
    },
    {
      "cell_type": "markdown",
      "metadata": {
        "id": "L3iIgU6F2eF9",
        "colab_type": "text"
      },
      "source": [
        "#### Interpret the Coefficients\n",
        "\n",
        "The coefficients for x1 and x2 represent how much a one unit change of that particular variable (one more cubic mm of left or right diencephalon) would change the estimated CSF volume if the other variable were held constant."
      ]
    },
    {
      "cell_type": "markdown",
      "metadata": {
        "id": "7APrT-rU2jMC",
        "colab_type": "text"
      },
      "source": [
        "# Question 2"
      ]
    },
    {
      "cell_type": "code",
      "metadata": {
        "id": "zNEp46T_2imJ",
        "colab_type": "code",
        "colab": {}
      },
      "source": [
        "# Download in the data if it's not already there\n",
        "! if [ ! -e binary.csv ]; \\\n",
        "then wget https://stats.idre.ucla.edu/stat/data/binary.csv; \\\n",
        "fi;"
      ],
      "execution_count": 0,
      "outputs": []
    },
    {
      "cell_type": "code",
      "metadata": {
        "id": "Rb8VFxo82gwU",
        "colab_type": "code",
        "outputId": "fc59a401-6c62-4813-ade7-1901ee600ed1",
        "colab": {
          "base_uri": "https://localhost:8080/",
          "height": 204
        }
      },
      "source": [
        "dat = pd.read_csv(\"binary.csv\")\n",
        "dat.head()"
      ],
      "execution_count": 143,
      "outputs": [
        {
          "output_type": "execute_result",
          "data": {
            "text/html": [
              "<div>\n",
              "<style scoped>\n",
              "    .dataframe tbody tr th:only-of-type {\n",
              "        vertical-align: middle;\n",
              "    }\n",
              "\n",
              "    .dataframe tbody tr th {\n",
              "        vertical-align: top;\n",
              "    }\n",
              "\n",
              "    .dataframe thead th {\n",
              "        text-align: right;\n",
              "    }\n",
              "</style>\n",
              "<table border=\"1\" class=\"dataframe\">\n",
              "  <thead>\n",
              "    <tr style=\"text-align: right;\">\n",
              "      <th></th>\n",
              "      <th>admit</th>\n",
              "      <th>gre</th>\n",
              "      <th>gpa</th>\n",
              "      <th>rank</th>\n",
              "    </tr>\n",
              "  </thead>\n",
              "  <tbody>\n",
              "    <tr>\n",
              "      <th>0</th>\n",
              "      <td>0</td>\n",
              "      <td>380</td>\n",
              "      <td>3.61</td>\n",
              "      <td>3</td>\n",
              "    </tr>\n",
              "    <tr>\n",
              "      <th>1</th>\n",
              "      <td>1</td>\n",
              "      <td>660</td>\n",
              "      <td>3.67</td>\n",
              "      <td>3</td>\n",
              "    </tr>\n",
              "    <tr>\n",
              "      <th>2</th>\n",
              "      <td>1</td>\n",
              "      <td>800</td>\n",
              "      <td>4.00</td>\n",
              "      <td>1</td>\n",
              "    </tr>\n",
              "    <tr>\n",
              "      <th>3</th>\n",
              "      <td>1</td>\n",
              "      <td>640</td>\n",
              "      <td>3.19</td>\n",
              "      <td>4</td>\n",
              "    </tr>\n",
              "    <tr>\n",
              "      <th>4</th>\n",
              "      <td>0</td>\n",
              "      <td>520</td>\n",
              "      <td>2.93</td>\n",
              "      <td>4</td>\n",
              "    </tr>\n",
              "  </tbody>\n",
              "</table>\n",
              "</div>"
            ],
            "text/plain": [
              "   admit  gre   gpa  rank\n",
              "0      0  380  3.61     3\n",
              "1      1  660  3.67     3\n",
              "2      1  800  4.00     1\n",
              "3      1  640  3.19     4\n",
              "4      0  520  2.93     4"
            ]
          },
          "metadata": {
            "tags": []
          },
          "execution_count": 143
        }
      ]
    },
    {
      "cell_type": "code",
      "metadata": {
        "id": "zSHvJeeV3Qic",
        "colab_type": "code",
        "outputId": "4ae96aa3-5d35-42d8-9840-7234beda51ae",
        "colab": {
          "base_uri": "https://localhost:8080/",
          "height": 431
        }
      },
      "source": [
        "trainFraction = .75\n",
        "x = dat[['gre','gpa','rank']]\n",
        "y = dat[['admit']]\n",
        "x = sm.tools.add_constant(x)\n",
        "sample = np.random.uniform(size = 400) < trainFraction\n",
        "trainingDat = dat[sample]\n",
        "testingDat = dat[~sample]\n",
        "xtraining = x[sample]\n",
        "xtesting = x[~sample]\n",
        "ytraining = y[sample]\n",
        "ytesting = y[~sample]\n",
        "model = sm.discrete.discrete_model.Logit(ytraining, xtraining).fit()\n",
        "print(model.summary())"
      ],
      "execution_count": 171,
      "outputs": [
        {
          "output_type": "stream",
          "text": [
            "Optimization terminated successfully.\n",
            "         Current function value: 0.581730\n",
            "         Iterations 5\n",
            "                           Logit Regression Results                           \n",
            "==============================================================================\n",
            "Dep. Variable:                  admit   No. Observations:                  312\n",
            "Model:                          Logit   Df Residuals:                      308\n",
            "Method:                           MLE   Df Model:                            3\n",
            "Date:                Fri, 27 Sep 2019   Pseudo R-squ.:                 0.06526\n",
            "Time:                        02:45:58   Log-Likelihood:                -181.50\n",
            "converged:                       True   LL-Null:                       -194.17\n",
            "Covariance Type:            nonrobust   LLR p-value:                 1.309e-05\n",
            "==============================================================================\n",
            "                 coef    std err          z      P>|z|      [0.025      0.975]\n",
            "------------------------------------------------------------------------------\n",
            "const         -2.9317      1.270     -2.308      0.021      -5.422      -0.442\n",
            "gre            0.0018      0.001      1.478      0.139      -0.001       0.004\n",
            "gpa            0.6823      0.371      1.840      0.066      -0.045       1.409\n",
            "rank          -0.5306      0.142     -3.726      0.000      -0.810      -0.251\n",
            "==============================================================================\n"
          ],
          "name": "stdout"
        },
        {
          "output_type": "stream",
          "text": [
            "/usr/local/lib/python3.6/dist-packages/numpy/core/fromnumeric.py:2389: FutureWarning: Method .ptp is deprecated and will be removed in a future version. Use numpy.ptp instead.\n",
            "  return ptp(axis=axis, out=out, **kwargs)\n"
          ],
          "name": "stderr"
        }
      ]
    },
    {
      "cell_type": "markdown",
      "metadata": {
        "id": "Sftt_IGk9dB6",
        "colab_type": "text"
      },
      "source": [
        "#### Part b:\n",
        "The coefficients for gre, gpa, and rank represent how much a one unit change of that particular variable would change the output if all other variables were held constant. Ie: an increase in gre score by one point, with no change in gpa or rank, would be anticipated to increase the output by 0.0018 based off of this model"
      ]
    },
    {
      "cell_type": "code",
      "metadata": {
        "id": "iglSyErA9eed",
        "colab_type": "code",
        "colab": {}
      },
      "source": [
        "thresh = np.arange(0,1,0.01).tolist()\n",
        "yhat = model.predict(xtesting).tolist()\n",
        "ytesting = ytesting.values\n",
        "yhat_temp = np.zeros(len(yhat))\n",
        "results = np.zeros((len(thresh),4))\n",
        "for j in range(len(thresh)):\n",
        "  true_pos = 0\n",
        "  true_neg = 0\n",
        "  false_pos = 0\n",
        "  false_neg = 0\n",
        "  for k in range(len(yhat)):\n",
        "    if yhat[k] >= thresh[j]:\n",
        "      yhat_temp[k] = 1\n",
        "    else:\n",
        "      yhat_temp[k] = 0\n",
        "  #print(yhat_temp)\n",
        "  for i in range(len(yhat)):\n",
        "    if (yhat_temp[i] == 1) and (ytesting[i] == 1): #true pos\n",
        "      true_pos += 1\n",
        "    elif (yhat_temp[i] == 1) and (ytesting[i] == 0): \n",
        "      false_pos += 1\n",
        "    elif (yhat_temp[i] == 0) and (ytesting[i] == 0):\n",
        "      true_neg += 1\n",
        "    else:\n",
        "      false_neg += 1\n",
        "  results[j,0] = true_pos\n",
        "  results[j,1] = false_pos\n",
        "  results[j,2] = true_neg\n",
        "  results[j,3] = false_neg\n",
        "    "
      ],
      "execution_count": 0,
      "outputs": []
    },
    {
      "cell_type": "code",
      "metadata": {
        "id": "5alsMaR5bJVz",
        "colab_type": "code",
        "colab": {}
      },
      "source": [
        "sensitivity = np.zeros(len(results[:,0]))\n",
        "specificity = np.zeros(len(results[:,0]))\n",
        "#accuracy = np.zeros(len(results[:,0]))\n",
        "good = results[:,0] + results[:,3]\n",
        "total = sum(results[1,:])\n",
        "accuracy = good/total\n",
        "for i in range(len(results[:,0])):\n",
        "  sensitivity[i] = results[i,0]/(results[i,0]+results[i,3])\n",
        "  specificity[i] = results[i,2]/(results[i,2]+results[i,1])\n",
        "  accuracy[i] = (results[i,0]+results[i,2])/(sum(results[1,:]))\n",
        "  #print(sum)"
      ],
      "execution_count": 0,
      "outputs": []
    },
    {
      "cell_type": "code",
      "metadata": {
        "id": "NWGpOaA_-6hY",
        "colab_type": "code",
        "outputId": "d63674f2-147c-4a45-fe6f-6dc1ff5404af",
        "colab": {
          "base_uri": "https://localhost:8080/",
          "height": 312
        }
      },
      "source": [
        "plt.figure()\n",
        "plt.plot(thresh,sensitivity)\n",
        "plt.plot(thresh,specificity)\n",
        "plt.plot(thresh,accuracy)\n",
        "plt.title('Threshhold vs (Sensitivity, Specificity, & Accuracy)')\n",
        "plt.ylabel('Performance')\n",
        "plt.xlabel('Threshhold')\n",
        "plt.legend(['Sensitivity','Specificity','Accuracy'])\n"
      ],
      "execution_count": 204,
      "outputs": [
        {
          "output_type": "execute_result",
          "data": {
            "text/plain": [
              "<matplotlib.legend.Legend at 0x7f9c3d345400>"
            ]
          },
          "metadata": {
            "tags": []
          },
          "execution_count": 204
        },
        {
          "output_type": "display_data",
          "data": {
            "image/png": "[encoded data removed]",
            "text/plain": [
              "<Figure size 432x288 with 1 Axes>"
            ]
          },
          "metadata": {
            "tags": []
          }
        }
      ]
    },
    {
      "cell_type": "markdown",
      "metadata": {
        "id": "VOky5LTAwLYd",
        "colab_type": "text"
      },
      "source": [
        "# Question 3"
      ]
    },
    {
      "cell_type": "code",
      "metadata": {
        "id": "oL4YYprQTGcx",
        "colab_type": "code",
        "colab": {}
      },
      "source": [
        ""
      ],
      "execution_count": 0,
      "outputs": []
    }
  ]
}