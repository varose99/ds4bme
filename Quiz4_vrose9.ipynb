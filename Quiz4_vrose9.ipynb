{
  "nbformat": 4,
  "nbformat_minor": 0,
  "metadata": {
    "colab": {
      "name": "Quiz4_vrose9.ipynb",
      "provenance": [],
      "collapsed_sections": [],
      "include_colab_link": true
    },
    "kernelspec": {
      "name": "python3",
      "display_name": "Python 3"
    }
  },
  "cells": [
    {
      "cell_type": "markdown",
      "metadata": {
        "id": "view-in-github",
        "colab_type": "text"
      },
      "source": [
        "<a href=\"https://colab.research.google.com/github/vrose99/ds4bme/blob/master/Quiz4_vrose9.ipynb\" target=\"_parent\"><img src=\"https://colab.research.google.com/assets/colab-badge.svg\" alt=\"Open In Colab\"/></a>"
      ]
    },
    {
      "cell_type": "markdown",
      "metadata": {
        "id": "WngQONb_Z47_",
        "colab_type": "text"
      },
      "source": [
        "### Victoria Rose\n",
        "### vrose9@jh.edu\n",
        "### Quiz 4"
      ]
    },
    {
      "cell_type": "code",
      "metadata": {
        "id": "cygxGvseZ1wj",
        "colab_type": "code",
        "colab": {}
      },
      "source": [
        "import numpy as np\n",
        "import pandas as pd\n",
        "import seaborn as sns\n",
        "import matplotlib.pyplot as plt\n",
        "import sklearn.linear_model as lm\n",
        "import sklearn as skl\n",
        "import statsmodels.formula.api as smf\n",
        "import statsmodels as sm"
      ],
      "execution_count": 0,
      "outputs": []
    },
    {
      "cell_type": "markdown",
      "metadata": {
        "id": "GW4-uW7_c4m4",
        "colab_type": "text"
      },
      "source": [
        "# Question 1"
      ]
    },
    {
      "cell_type": "code",
      "metadata": {
        "id": "vq1VezMqZ9qb",
        "colab_type": "code",
        "outputId": "d069c339-aff8-4a8a-fb9c-e37214d5ae35",
        "colab": {
          "base_uri": "https://localhost:8080/",
          "height": 204
        }
      },
      "source": [
        "# Download in the data if it's not already there\n",
        "! if [ ! -e kirby21.csv ]; \\\n",
        "then wget https://raw.githubusercontent.com/bcaffo/ds4bme_intro/master/data/kirby21.csv; \\\n",
        "fi;\n",
        "\n",
        "# Read in the data and display a few rows\n",
        "dat = pd.read_csv(\"kirby21.csv\")\n",
        "#dat['csf'] = dat['icv'] - dat['tbv'] \n",
        "dat.head()"
      ],
      "execution_count": 139,
      "outputs": [
        {
          "output_type": "execute_result",
          "data": {
            "text/html": [
              "<div>\n",
              "<style scoped>\n",
              "    .dataframe tbody tr th:only-of-type {\n",
              "        vertical-align: middle;\n",
              "    }\n",
              "\n",
              "    .dataframe tbody tr th {\n",
              "        vertical-align: top;\n",
              "    }\n",
              "\n",
              "    .dataframe thead th {\n",
              "        text-align: right;\n",
              "    }\n",
              "</style>\n",
              "<table border=\"1\" class=\"dataframe\">\n",
              "  <thead>\n",
              "    <tr style=\"text-align: right;\">\n",
              "      <th></th>\n",
              "      <th>Unnamed: 0</th>\n",
              "      <th>rawid</th>\n",
              "      <th>roi</th>\n",
              "      <th>volume</th>\n",
              "      <th>min</th>\n",
              "      <th>max</th>\n",
              "      <th>mean</th>\n",
              "      <th>std</th>\n",
              "      <th>type</th>\n",
              "      <th>level</th>\n",
              "      <th>id</th>\n",
              "      <th>icv</th>\n",
              "      <th>tbv</th>\n",
              "    </tr>\n",
              "  </thead>\n",
              "  <tbody>\n",
              "    <tr>\n",
              "      <th>0</th>\n",
              "      <td>1</td>\n",
              "      <td>kirby127a_3_1_ax.img</td>\n",
              "      <td>Telencephalon_L</td>\n",
              "      <td>531111</td>\n",
              "      <td>0.0</td>\n",
              "      <td>374.0</td>\n",
              "      <td>128.3013</td>\n",
              "      <td>51.8593</td>\n",
              "      <td>1</td>\n",
              "      <td>1</td>\n",
              "      <td>127</td>\n",
              "      <td>1378295</td>\n",
              "      <td>1268519</td>\n",
              "    </tr>\n",
              "    <tr>\n",
              "      <th>1</th>\n",
              "      <td>2</td>\n",
              "      <td>kirby127a_3_1_ax.img</td>\n",
              "      <td>Telencephalon_R</td>\n",
              "      <td>543404</td>\n",
              "      <td>0.0</td>\n",
              "      <td>300.0</td>\n",
              "      <td>135.0683</td>\n",
              "      <td>53.6471</td>\n",
              "      <td>1</td>\n",
              "      <td>1</td>\n",
              "      <td>127</td>\n",
              "      <td>1378295</td>\n",
              "      <td>1268519</td>\n",
              "    </tr>\n",
              "    <tr>\n",
              "      <th>2</th>\n",
              "      <td>3</td>\n",
              "      <td>kirby127a_3_1_ax.img</td>\n",
              "      <td>Diencephalon_L</td>\n",
              "      <td>9683</td>\n",
              "      <td>15.0</td>\n",
              "      <td>295.0</td>\n",
              "      <td>193.5488</td>\n",
              "      <td>32.2733</td>\n",
              "      <td>1</td>\n",
              "      <td>1</td>\n",
              "      <td>127</td>\n",
              "      <td>1378295</td>\n",
              "      <td>1268519</td>\n",
              "    </tr>\n",
              "    <tr>\n",
              "      <th>3</th>\n",
              "      <td>4</td>\n",
              "      <td>kirby127a_3_1_ax.img</td>\n",
              "      <td>Diencephalon_R</td>\n",
              "      <td>9678</td>\n",
              "      <td>10.0</td>\n",
              "      <td>335.0</td>\n",
              "      <td>193.7051</td>\n",
              "      <td>32.7869</td>\n",
              "      <td>1</td>\n",
              "      <td>1</td>\n",
              "      <td>127</td>\n",
              "      <td>1378295</td>\n",
              "      <td>1268519</td>\n",
              "    </tr>\n",
              "    <tr>\n",
              "      <th>4</th>\n",
              "      <td>5</td>\n",
              "      <td>kirby127a_3_1_ax.img</td>\n",
              "      <td>Mesencephalon</td>\n",
              "      <td>10268</td>\n",
              "      <td>55.0</td>\n",
              "      <td>307.0</td>\n",
              "      <td>230.8583</td>\n",
              "      <td>29.2249</td>\n",
              "      <td>1</td>\n",
              "      <td>1</td>\n",
              "      <td>127</td>\n",
              "      <td>1378295</td>\n",
              "      <td>1268519</td>\n",
              "    </tr>\n",
              "  </tbody>\n",
              "</table>\n",
              "</div>"
            ],
            "text/plain": [
              "   Unnamed: 0                 rawid              roi  ...   id      icv      tbv\n",
              "0           1  kirby127a_3_1_ax.img  Telencephalon_L  ...  127  1378295  1268519\n",
              "1           2  kirby127a_3_1_ax.img  Telencephalon_R  ...  127  1378295  1268519\n",
              "2           3  kirby127a_3_1_ax.img   Diencephalon_L  ...  127  1378295  1268519\n",
              "3           4  kirby127a_3_1_ax.img   Diencephalon_R  ...  127  1378295  1268519\n",
              "4           5  kirby127a_3_1_ax.img    Mesencephalon  ...  127  1378295  1268519\n",
              "\n",
              "[5 rows x 13 columns]"
            ]
          },
          "metadata": {
            "tags": []
          },
          "execution_count": 139
        }
      ]
    },
    {
      "cell_type": "code",
      "metadata": {
        "id": "JrnpHnCiaZTX",
        "colab_type": "code",
        "outputId": "35df4bf2-53de-4917-f1a6-fd381978c994",
        "colab": {
          "base_uri": "https://localhost:8080/",
          "height": 204
        }
      },
      "source": [
        "# Make a data Frame\n",
        "df = pd.read_csv(\"kirby21.csv\")\n",
        "df_L = df.loc[df['roi']=='Diencephalon_L']\n",
        "df_R = df.loc[df['roi']=='Diencephalon_R']\n",
        "df_y = df.loc[df['roi']=='CSF']\n",
        "#df_L.head()\n",
        "#df_R.head()\n",
        "x1 = df_L['volume'].tolist()\n",
        "x2 = df_R['volume'].tolist()\n",
        "y_temp = df_y['volume'].tolist()\n",
        "y = []\n",
        "for i in range(len(y_temp)):\n",
        "  if i % 2 == 0:\n",
        "    y.append(y_temp[i])\n",
        "#will be the same whether taken from df_L or df_R\n",
        "#pred = pd.DataFrame([x1, x2, y],columns=['x1','x2','y'])\n",
        "df = pd.DataFrame([x1,x2,y])\n",
        "df = df.transpose()\n",
        "df.columns = ['x1','x2','y']\n",
        "df.head()"
      ],
      "execution_count": 140,
      "outputs": [
        {
          "output_type": "execute_result",
          "data": {
            "text/html": [
              "<div>\n",
              "<style scoped>\n",
              "    .dataframe tbody tr th:only-of-type {\n",
              "        vertical-align: middle;\n",
              "    }\n",
              "\n",
              "    .dataframe tbody tr th {\n",
              "        vertical-align: top;\n",
              "    }\n",
              "\n",
              "    .dataframe thead th {\n",
              "        text-align: right;\n",
              "    }\n",
              "</style>\n",
              "<table border=\"1\" class=\"dataframe\">\n",
              "  <thead>\n",
              "    <tr style=\"text-align: right;\">\n",
              "      <th></th>\n",
              "      <th>x1</th>\n",
              "      <th>x2</th>\n",
              "      <th>y</th>\n",
              "    </tr>\n",
              "  </thead>\n",
              "  <tbody>\n",
              "    <tr>\n",
              "      <th>0</th>\n",
              "      <td>9683</td>\n",
              "      <td>9678</td>\n",
              "      <td>109776</td>\n",
              "    </tr>\n",
              "    <tr>\n",
              "      <th>1</th>\n",
              "      <td>9156</td>\n",
              "      <td>9071</td>\n",
              "      <td>107334</td>\n",
              "    </tr>\n",
              "    <tr>\n",
              "      <th>2</th>\n",
              "      <td>8937</td>\n",
              "      <td>9004</td>\n",
              "      <td>94254</td>\n",
              "    </tr>\n",
              "    <tr>\n",
              "      <th>3</th>\n",
              "      <td>8828</td>\n",
              "      <td>8933</td>\n",
              "      <td>67156</td>\n",
              "    </tr>\n",
              "    <tr>\n",
              "      <th>4</th>\n",
              "      <td>9749</td>\n",
              "      <td>9722</td>\n",
              "      <td>110114</td>\n",
              "    </tr>\n",
              "  </tbody>\n",
              "</table>\n",
              "</div>"
            ],
            "text/plain": [
              "     x1    x2       y\n",
              "0  9683  9678  109776\n",
              "1  9156  9071  107334\n",
              "2  8937  9004   94254\n",
              "3  8828  8933   67156\n",
              "4  9749  9722  110114"
            ]
          },
          "metadata": {
            "tags": []
          },
          "execution_count": 140
        }
      ]
    },
    {
      "cell_type": "code",
      "metadata": {
        "id": "aFB4n1tTbVhy",
        "colab_type": "code",
        "outputId": "73502ee4-78de-4fa2-bdfa-e4643f874e3e",
        "colab": {
          "base_uri": "https://localhost:8080/",
          "height": 408
        }
      },
      "source": [
        "results = smf.ols('y ~ x1+ x2', data = df).fit()\n",
        "print(results.summary2())"
      ],
      "execution_count": 141,
      "outputs": [
        {
          "output_type": "stream",
          "text": [
            "                    Results: Ordinary least squares\n",
            "=======================================================================\n",
            "Model:                OLS               Adj. R-squared:      0.128     \n",
            "Dependent Variable:   y                 AIC:                 454.0017  \n",
            "Date:                 2019-09-27 02:23  BIC:                 456.9889  \n",
            "No. Observations:     20                Log-Likelihood:      -224.00   \n",
            "Df Model:             2                 F-statistic:         2.394     \n",
            "Df Residuals:         17                Prob (F-statistic):  0.121     \n",
            "R-squared:            0.220             Scale:               3.6842e+08\n",
            "-----------------------------------------------------------------------\n",
            "            Coef.     Std.Err.     t    P>|t|     [0.025       0.975]  \n",
            "-----------------------------------------------------------------------\n",
            "Intercept -2449.7146 59324.5017 -0.0413 0.9675 -127613.4723 122714.0432\n",
            "x1           23.9403    21.0337  1.1382 0.2708     -20.4370     68.3175\n",
            "x2          -13.7653    23.3248 -0.5902 0.5628     -62.9763     35.4458\n",
            "-----------------------------------------------------------------------\n",
            "Omnibus:                0.679          Durbin-Watson:            2.013 \n",
            "Prob(Omnibus):          0.712          Jarque-Bera (JB):         0.646 \n",
            "Skew:                   -0.064         Prob(JB):                 0.724 \n",
            "Kurtosis:               2.129          Condition No.:            177374\n",
            "=======================================================================\n",
            "* The condition number is large (2e+05). This might indicate\n",
            "strong multicollinearity or other numerical problems.\n"
          ],
          "name": "stdout"
        }
      ]
    },
    {
      "cell_type": "markdown",
      "metadata": {
        "id": "L3iIgU6F2eF9",
        "colab_type": "text"
      },
      "source": [
        "### Later problem interpret"
      ]
    },
    {
      "cell_type": "markdown",
      "metadata": {
        "id": "7APrT-rU2jMC",
        "colab_type": "text"
      },
      "source": [
        "# Question 2"
      ]
    },
    {
      "cell_type": "code",
      "metadata": {
        "id": "zNEp46T_2imJ",
        "colab_type": "code",
        "colab": {}
      },
      "source": [
        "# Download in the data if it's not already there\n",
        "! if [ ! -e binary.csv ]; \\\n",
        "then wget https://stats.idre.ucla.edu/stat/data/binary.csv; \\\n",
        "fi;"
      ],
      "execution_count": 0,
      "outputs": []
    },
    {
      "cell_type": "code",
      "metadata": {
        "id": "Rb8VFxo82gwU",
        "colab_type": "code",
        "outputId": "fc59a401-6c62-4813-ade7-1901ee600ed1",
        "colab": {
          "base_uri": "https://localhost:8080/",
          "height": 204
        }
      },
      "source": [
        "dat = pd.read_csv(\"binary.csv\")\n",
        "dat.head()"
      ],
      "execution_count": 143,
      "outputs": [
        {
          "output_type": "execute_result",
          "data": {
            "text/html": [
              "<div>\n",
              "<style scoped>\n",
              "    .dataframe tbody tr th:only-of-type {\n",
              "        vertical-align: middle;\n",
              "    }\n",
              "\n",
              "    .dataframe tbody tr th {\n",
              "        vertical-align: top;\n",
              "    }\n",
              "\n",
              "    .dataframe thead th {\n",
              "        text-align: right;\n",
              "    }\n",
              "</style>\n",
              "<table border=\"1\" class=\"dataframe\">\n",
              "  <thead>\n",
              "    <tr style=\"text-align: right;\">\n",
              "      <th></th>\n",
              "      <th>admit</th>\n",
              "      <th>gre</th>\n",
              "      <th>gpa</th>\n",
              "      <th>rank</th>\n",
              "    </tr>\n",
              "  </thead>\n",
              "  <tbody>\n",
              "    <tr>\n",
              "      <th>0</th>\n",
              "      <td>0</td>\n",
              "      <td>380</td>\n",
              "      <td>3.61</td>\n",
              "      <td>3</td>\n",
              "    </tr>\n",
              "    <tr>\n",
              "      <th>1</th>\n",
              "      <td>1</td>\n",
              "      <td>660</td>\n",
              "      <td>3.67</td>\n",
              "      <td>3</td>\n",
              "    </tr>\n",
              "    <tr>\n",
              "      <th>2</th>\n",
              "      <td>1</td>\n",
              "      <td>800</td>\n",
              "      <td>4.00</td>\n",
              "      <td>1</td>\n",
              "    </tr>\n",
              "    <tr>\n",
              "      <th>3</th>\n",
              "      <td>1</td>\n",
              "      <td>640</td>\n",
              "      <td>3.19</td>\n",
              "      <td>4</td>\n",
              "    </tr>\n",
              "    <tr>\n",
              "      <th>4</th>\n",
              "      <td>0</td>\n",
              "      <td>520</td>\n",
              "      <td>2.93</td>\n",
              "      <td>4</td>\n",
              "    </tr>\n",
              "  </tbody>\n",
              "</table>\n",
              "</div>"
            ],
            "text/plain": [
              "   admit  gre   gpa  rank\n",
              "0      0  380  3.61     3\n",
              "1      1  660  3.67     3\n",
              "2      1  800  4.00     1\n",
              "3      1  640  3.19     4\n",
              "4      0  520  2.93     4"
            ]
          },
          "metadata": {
            "tags": []
          },
          "execution_count": 143
        }
      ]
    },
    {
      "cell_type": "code",
      "metadata": {
        "id": "zSHvJeeV3Qic",
        "colab_type": "code",
        "outputId": "13497afc-354b-491d-efe0-7fd0bd02f8be",
        "colab": {
          "base_uri": "https://localhost:8080/",
          "height": 431
        }
      },
      "source": [
        "trainFraction = .75\n",
        "x = dat[['gre','gpa','rank']]\n",
        "y = dat[['admit']]\n",
        "x = sm.tools.add_constant(x)\n",
        "sample = np.random.uniform(size = 400) < trainFraction\n",
        "trainingDat = dat[sample]\n",
        "testingDat = dat[~sample]\n",
        "xtraining = x[sample]\n",
        "xtesting = x[~sample]\n",
        "ytraining = y[sample]\n",
        "ytesting = y[~sample]\n",
        "model = sm.discrete.discrete_model.Logit(ytraining, xtraining).fit()\n",
        "print(model.summary())"
      ],
      "execution_count": 167,
      "outputs": [
        {
          "output_type": "stream",
          "text": [
            "Optimization terminated successfully.\n",
            "         Current function value: 0.569924\n",
            "         Iterations 6\n",
            "                           Logit Regression Results                           \n",
            "==============================================================================\n",
            "Dep. Variable:                  admit   No. Observations:                  305\n",
            "Model:                          Logit   Df Residuals:                      301\n",
            "Method:                           MLE   Df Model:                            3\n",
            "Date:                Fri, 27 Sep 2019   Pseudo R-squ.:                 0.08867\n",
            "Time:                        02:39:17   Log-Likelihood:                -173.83\n",
            "converged:                       True   LL-Null:                       -190.74\n",
            "Covariance Type:            nonrobust   LLR p-value:                 2.155e-07\n",
            "==============================================================================\n",
            "                 coef    std err          z      P>|z|      [0.025      0.975]\n",
            "------------------------------------------------------------------------------\n",
            "const         -4.1588      1.321     -3.149      0.002      -6.747      -1.570\n",
            "gre            0.0027      0.001      2.070      0.038       0.000       0.005\n",
            "gpa            0.9181      0.378      2.431      0.015       0.178       1.658\n",
            "rank          -0.5545      0.146     -3.786      0.000      -0.842      -0.267\n",
            "==============================================================================\n"
          ],
          "name": "stdout"
        },
        {
          "output_type": "stream",
          "text": [
            "/usr/local/lib/python3.6/dist-packages/numpy/core/fromnumeric.py:2389: FutureWarning: Method .ptp is deprecated and will be removed in a future version. Use numpy.ptp instead.\n",
            "  return ptp(axis=axis, out=out, **kwargs)\n"
          ],
          "name": "stderr"
        }
      ]
    },
    {
      "cell_type": "markdown",
      "metadata": {
        "id": "Sftt_IGk9dB6",
        "colab_type": "text"
      },
      "source": [
        "## INTERP COEFF"
      ]
    },
    {
      "cell_type": "code",
      "metadata": {
        "id": "iglSyErA9eed",
        "colab_type": "code",
        "colab": {}
      },
      "source": [
        "thresh = np.arange(0,1,0.01).tolist()\n",
        "yhat = model.predict(xtesting).tolist()\n",
        "ytesting = ytesting.values\n",
        "yhat_temp = np.zeros(len(yhat))\n",
        "results = np.zeros((len(thresh),4))\n",
        "for j in range(len(thresh)):\n",
        "  true_pos = 0\n",
        "  true_neg = 0\n",
        "  false_pos = 0\n",
        "  false_neg = 0\n",
        "  for k in range(len(yhat)):\n",
        "    if yhat[k] >= thresh[j]:\n",
        "      yhat_temp[k] = 1\n",
        "    else:\n",
        "      yhat_temp[k] = 0\n",
        "  for i in range(len(yhat)):\n",
        "    if (yhat_temp[i] == 1) and (ytesting[i] == 1): #true pos\n",
        "      true_pos += 1\n",
        "    elif (yhat_temp[i] == 1) and (ytesting[i] == 0): \n",
        "      false_pos += 1\n",
        "    elif (yhat_temp[i] == 0) and (ytesting[i] == 0):\n",
        "      true_neg += 1\n",
        "    else:\n",
        "      false_neg += 1\n",
        "  results[j,0] = true_pos\n",
        "  results[j,1] = false_pos\n",
        "  results[j,2] = true_neg\n",
        "  results[j,3] = false_neg\n",
        "    "
      ],
      "execution_count": 0,
      "outputs": []
    },
    {
      "cell_type": "code",
      "metadata": {
        "id": "5alsMaR5bJVz",
        "colab_type": "code",
        "colab": {
          "base_uri": "https://localhost:8080/",
          "height": 153
        },
        "outputId": "2ad032ad-dff5-4f2d-f3a5-e600e4f10998"
      },
      "source": [
        ""
      ],
      "execution_count": 166,
      "outputs": [
        {
          "output_type": "execute_result",
          "data": {
            "text/plain": [
              "array([ 0.,  0.,  0.,  1.,  1.,  1.,  1.,  4.,  6.,  7.,  9., 12., 13.,\n",
              "       17., 17., 19., 21., 21., 21., 22., 23., 23., 24., 24., 24., 24.,\n",
              "       27., 30., 32., 33., 35., 36., 38., 39., 41., 43., 45., 46., 46.,\n",
              "       47., 47., 48., 48., 50., 50., 50., 50., 51., 53., 53., 53., 53.,\n",
              "       53., 53., 53., 53., 54., 54., 54., 54., 55., 55., 55., 55., 55.,\n",
              "       56., 56., 56., 56., 57., 57., 57., 57., 58., 58., 58., 58., 59.,\n",
              "       59., 59., 59., 59., 59., 59., 59., 59., 59., 59., 59., 59., 59.,\n",
              "       59., 59., 59., 59., 59., 59., 59., 59., 59.])"
            ]
          },
          "metadata": {
            "tags": []
          },
          "execution_count": 166
        }
      ]
    },
    {
      "cell_type": "code",
      "metadata": {
        "id": "NWGpOaA_-6hY",
        "colab_type": "code",
        "outputId": "b78e798f-de60-4198-d60b-a70e34501ca8",
        "colab": {
          "base_uri": "https://localhost:8080/",
          "height": 1000
        }
      },
      "source": [
        "yhat"
      ],
      "execution_count": 0,
      "outputs": [
        {
          "output_type": "execute_result",
          "data": {
            "text/plain": [
              "0      0.244743\n",
              "2      0.700974\n",
              "3      0.138303\n",
              "4      0.092614\n",
              "9      0.532472\n",
              "10     0.338035\n",
              "11     0.376114\n",
              "13     0.294425\n",
              "14     0.675616\n",
              "24     0.382179\n",
              "25     0.609577\n",
              "28     0.351591\n",
              "29     0.418774\n",
              "30     0.224008\n",
              "41     0.325413\n",
              "51     0.105490\n",
              "52     0.183015\n",
              "53     0.338378\n",
              "57     0.127005\n",
              "60     0.299632\n",
              "64     0.395513\n",
              "66     0.231969\n",
              "69     0.629298\n",
              "70     0.412595\n",
              "80     0.108597\n",
              "84     0.269549\n",
              "86     0.330626\n",
              "93     0.232334\n",
              "95     0.349223\n",
              "100    0.151358\n",
              "         ...   \n",
              "256    0.304946\n",
              "259    0.481918\n",
              "261    0.250162\n",
              "269    0.125515\n",
              "274    0.261341\n",
              "276    0.301323\n",
              "279    0.299524\n",
              "280    0.526645\n",
              "287    0.232153\n",
              "306    0.389932\n",
              "314    0.164522\n",
              "315    0.163306\n",
              "316    0.198565\n",
              "317    0.242692\n",
              "320    0.168815\n",
              "322    0.098843\n",
              "323    0.158259\n",
              "327    0.363223\n",
              "347    0.461264\n",
              "350    0.579395\n",
              "353    0.413855\n",
              "358    0.306106\n",
              "360    0.627349\n",
              "366    0.136453\n",
              "376    0.422831\n",
              "377    0.585147\n",
              "387    0.335995\n",
              "388    0.302092\n",
              "390    0.311824\n",
              "395    0.532729\n",
              "Length: 97, dtype: float64"
            ]
          },
          "metadata": {
            "tags": []
          },
          "execution_count": 117
        }
      ]
    },
    {
      "cell_type": "code",
      "metadata": {
        "id": "oL4YYprQTGcx",
        "colab_type": "code",
        "colab": {}
      },
      "source": [
        ""
      ],
      "execution_count": 0,
      "outputs": []
    }
  ]
}