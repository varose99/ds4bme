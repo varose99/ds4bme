{
  "nbformat": 4,
  "nbformat_minor": 0,
  "metadata": {
    "colab": {
      "name": "Quiz4_vrose9.ipynb",
      "provenance": [],
      "collapsed_sections": [],
      "include_colab_link": true
    },
    "kernelspec": {
      "name": "python3",
      "display_name": "Python 3"
    }
  },
  "cells": [
    {
      "cell_type": "markdown",
      "metadata": {
        "id": "view-in-github",
        "colab_type": "text"
      },
      "source": [
        "<a href=\"https://colab.research.google.com/github/vrose99/ds4bme/blob/master/Quiz4_vrose9.ipynb\" target=\"_parent\"><img src=\"https://colab.research.google.com/assets/colab-badge.svg\" alt=\"Open In Colab\"/></a>"
      ]
    },
    {
      "cell_type": "markdown",
      "metadata": {
        "id": "WngQONb_Z47_",
        "colab_type": "text"
      },
      "source": [
        "### Victoria Rose\n",
        "### vrose9@jh.edu\n",
        "### Quiz 4"
      ]
    },
    {
      "cell_type": "code",
      "metadata": {
        "id": "cygxGvseZ1wj",
        "colab_type": "code",
        "colab": {}
      },
      "source": [
        "import numpy as np\n",
        "import pandas as pd\n",
        "import seaborn as sns\n",
        "import matplotlib.pyplot as plt\n",
        "import sklearn.linear_model as lm\n",
        "import sklearn as skl\n",
        "import statsmodels.formula.api as smf\n",
        "import statsmodels as sm"
      ],
      "execution_count": 0,
      "outputs": []
    },
    {
      "cell_type": "markdown",
      "metadata": {
        "id": "GW4-uW7_c4m4",
        "colab_type": "text"
      },
      "source": [
        "# Question 1"
      ]
    },
    {
      "cell_type": "code",
      "metadata": {
        "id": "vq1VezMqZ9qb",
        "colab_type": "code",
        "outputId": "133e295b-dcf0-4237-b6fc-5eaead1a2eab",
        "colab": {
          "base_uri": "https://localhost:8080/",
          "height": 204
        }
      },
      "source": [
        "# Download in the data if it's not already there\n",
        "! if [ ! -e kirby21.csv ]; \\\n",
        "then wget https://raw.githubusercontent.com/bcaffo/ds4bme_intro/master/data/kirby21.csv; \\\n",
        "fi;\n",
        "\n",
        "# Read in the data and display a few rows\n",
        "dat = pd.read_csv(\"kirby21.csv\")\n",
        "#dat['csf'] = dat['icv'] - dat['tbv'] \n",
        "dat.head()"
      ],
      "execution_count": 4,
      "outputs": [
        {
          "output_type": "execute_result",
          "data": {
            "text/html": [
              "<div>\n",
              "<style scoped>\n",
              "    .dataframe tbody tr th:only-of-type {\n",
              "        vertical-align: middle;\n",
              "    }\n",
              "\n",
              "    .dataframe tbody tr th {\n",
              "        vertical-align: top;\n",
              "    }\n",
              "\n",
              "    .dataframe thead th {\n",
              "        text-align: right;\n",
              "    }\n",
              "</style>\n",
              "<table border=\"1\" class=\"dataframe\">\n",
              "  <thead>\n",
              "    <tr style=\"text-align: right;\">\n",
              "      <th></th>\n",
              "      <th>Unnamed: 0</th>\n",
              "      <th>rawid</th>\n",
              "      <th>roi</th>\n",
              "      <th>volume</th>\n",
              "      <th>min</th>\n",
              "      <th>max</th>\n",
              "      <th>mean</th>\n",
              "      <th>std</th>\n",
              "      <th>type</th>\n",
              "      <th>level</th>\n",
              "      <th>id</th>\n",
              "      <th>icv</th>\n",
              "      <th>tbv</th>\n",
              "    </tr>\n",
              "  </thead>\n",
              "  <tbody>\n",
              "    <tr>\n",
              "      <th>0</th>\n",
              "      <td>1</td>\n",
              "      <td>kirby127a_3_1_ax.img</td>\n",
              "      <td>Telencephalon_L</td>\n",
              "      <td>531111</td>\n",
              "      <td>0.0</td>\n",
              "      <td>374.0</td>\n",
              "      <td>128.3013</td>\n",
              "      <td>51.8593</td>\n",
              "      <td>1</td>\n",
              "      <td>1</td>\n",
              "      <td>127</td>\n",
              "      <td>1378295</td>\n",
              "      <td>1268519</td>\n",
              "    </tr>\n",
              "    <tr>\n",
              "      <th>1</th>\n",
              "      <td>2</td>\n",
              "      <td>kirby127a_3_1_ax.img</td>\n",
              "      <td>Telencephalon_R</td>\n",
              "      <td>543404</td>\n",
              "      <td>0.0</td>\n",
              "      <td>300.0</td>\n",
              "      <td>135.0683</td>\n",
              "      <td>53.6471</td>\n",
              "      <td>1</td>\n",
              "      <td>1</td>\n",
              "      <td>127</td>\n",
              "      <td>1378295</td>\n",
              "      <td>1268519</td>\n",
              "    </tr>\n",
              "    <tr>\n",
              "      <th>2</th>\n",
              "      <td>3</td>\n",
              "      <td>kirby127a_3_1_ax.img</td>\n",
              "      <td>Diencephalon_L</td>\n",
              "      <td>9683</td>\n",
              "      <td>15.0</td>\n",
              "      <td>295.0</td>\n",
              "      <td>193.5488</td>\n",
              "      <td>32.2733</td>\n",
              "      <td>1</td>\n",
              "      <td>1</td>\n",
              "      <td>127</td>\n",
              "      <td>1378295</td>\n",
              "      <td>1268519</td>\n",
              "    </tr>\n",
              "    <tr>\n",
              "      <th>3</th>\n",
              "      <td>4</td>\n",
              "      <td>kirby127a_3_1_ax.img</td>\n",
              "      <td>Diencephalon_R</td>\n",
              "      <td>9678</td>\n",
              "      <td>10.0</td>\n",
              "      <td>335.0</td>\n",
              "      <td>193.7051</td>\n",
              "      <td>32.7869</td>\n",
              "      <td>1</td>\n",
              "      <td>1</td>\n",
              "      <td>127</td>\n",
              "      <td>1378295</td>\n",
              "      <td>1268519</td>\n",
              "    </tr>\n",
              "    <tr>\n",
              "      <th>4</th>\n",
              "      <td>5</td>\n",
              "      <td>kirby127a_3_1_ax.img</td>\n",
              "      <td>Mesencephalon</td>\n",
              "      <td>10268</td>\n",
              "      <td>55.0</td>\n",
              "      <td>307.0</td>\n",
              "      <td>230.8583</td>\n",
              "      <td>29.2249</td>\n",
              "      <td>1</td>\n",
              "      <td>1</td>\n",
              "      <td>127</td>\n",
              "      <td>1378295</td>\n",
              "      <td>1268519</td>\n",
              "    </tr>\n",
              "  </tbody>\n",
              "</table>\n",
              "</div>"
            ],
            "text/plain": [
              "   Unnamed: 0                 rawid              roi  ...   id      icv      tbv\n",
              "0           1  kirby127a_3_1_ax.img  Telencephalon_L  ...  127  1378295  1268519\n",
              "1           2  kirby127a_3_1_ax.img  Telencephalon_R  ...  127  1378295  1268519\n",
              "2           3  kirby127a_3_1_ax.img   Diencephalon_L  ...  127  1378295  1268519\n",
              "3           4  kirby127a_3_1_ax.img   Diencephalon_R  ...  127  1378295  1268519\n",
              "4           5  kirby127a_3_1_ax.img    Mesencephalon  ...  127  1378295  1268519\n",
              "\n",
              "[5 rows x 13 columns]"
            ]
          },
          "metadata": {
            "tags": []
          },
          "execution_count": 4
        }
      ]
    },
    {
      "cell_type": "code",
      "metadata": {
        "id": "JrnpHnCiaZTX",
        "colab_type": "code",
        "outputId": "7b75a681-5901-4aa1-9c1f-e5b790662be9",
        "colab": {
          "base_uri": "https://localhost:8080/",
          "height": 204
        }
      },
      "source": [
        "# Make a data Frame\n",
        "df = pd.read_csv(\"kirby21.csv\")\n",
        "df_L = df.loc[df['roi']=='Diencephalon_L']\n",
        "df_R = df.loc[df['roi']=='Diencephalon_R']\n",
        "df_y = df.loc[df['roi']=='CSF']\n",
        "#df_L.head()\n",
        "#df_R.head()\n",
        "x1 = df_L['volume'].tolist()\n",
        "x2 = df_R['volume'].tolist()\n",
        "y_temp = df_y['volume'].tolist()\n",
        "y = []\n",
        "for i in range(len(y_temp)):\n",
        "  if i % 2 == 0:\n",
        "    y.append(y_temp[i])\n",
        "#will be the same whether taken from df_L or df_R\n",
        "#pred = pd.DataFrame([x1, x2, y],columns=['x1','x2','y'])\n",
        "df = pd.DataFrame([x1,x2,y])\n",
        "df = df.transpose()\n",
        "df.columns = ['x1','x2','y']\n",
        "df.head()"
      ],
      "execution_count": 83,
      "outputs": [
        {
          "output_type": "execute_result",
          "data": {
            "text/html": [
              "<div>\n",
              "<style scoped>\n",
              "    .dataframe tbody tr th:only-of-type {\n",
              "        vertical-align: middle;\n",
              "    }\n",
              "\n",
              "    .dataframe tbody tr th {\n",
              "        vertical-align: top;\n",
              "    }\n",
              "\n",
              "    .dataframe thead th {\n",
              "        text-align: right;\n",
              "    }\n",
              "</style>\n",
              "<table border=\"1\" class=\"dataframe\">\n",
              "  <thead>\n",
              "    <tr style=\"text-align: right;\">\n",
              "      <th></th>\n",
              "      <th>x1</th>\n",
              "      <th>x2</th>\n",
              "      <th>y</th>\n",
              "    </tr>\n",
              "  </thead>\n",
              "  <tbody>\n",
              "    <tr>\n",
              "      <th>0</th>\n",
              "      <td>9683</td>\n",
              "      <td>9678</td>\n",
              "      <td>109776</td>\n",
              "    </tr>\n",
              "    <tr>\n",
              "      <th>1</th>\n",
              "      <td>9156</td>\n",
              "      <td>9071</td>\n",
              "      <td>107334</td>\n",
              "    </tr>\n",
              "    <tr>\n",
              "      <th>2</th>\n",
              "      <td>8937</td>\n",
              "      <td>9004</td>\n",
              "      <td>94254</td>\n",
              "    </tr>\n",
              "    <tr>\n",
              "      <th>3</th>\n",
              "      <td>8828</td>\n",
              "      <td>8933</td>\n",
              "      <td>67156</td>\n",
              "    </tr>\n",
              "    <tr>\n",
              "      <th>4</th>\n",
              "      <td>9749</td>\n",
              "      <td>9722</td>\n",
              "      <td>110114</td>\n",
              "    </tr>\n",
              "  </tbody>\n",
              "</table>\n",
              "</div>"
            ],
            "text/plain": [
              "     x1    x2       y\n",
              "0  9683  9678  109776\n",
              "1  9156  9071  107334\n",
              "2  8937  9004   94254\n",
              "3  8828  8933   67156\n",
              "4  9749  9722  110114"
            ]
          },
          "metadata": {
            "tags": []
          },
          "execution_count": 83
        }
      ]
    },
    {
      "cell_type": "code",
      "metadata": {
        "id": "aFB4n1tTbVhy",
        "colab_type": "code",
        "colab": {
          "base_uri": "https://localhost:8080/",
          "height": 408
        },
        "outputId": "f8408dfa-952d-47c2-c8e7-90524204732b"
      },
      "source": [
        "results = smf.ols('y ~ x1+ x2', data = df).fit()\n",
        "print(results.summary2())"
      ],
      "execution_count": 84,
      "outputs": [
        {
          "output_type": "stream",
          "text": [
            "                    Results: Ordinary least squares\n",
            "=======================================================================\n",
            "Model:                OLS               Adj. R-squared:      0.128     \n",
            "Dependent Variable:   y                 AIC:                 454.0017  \n",
            "Date:                 2019-09-26 19:03  BIC:                 456.9889  \n",
            "No. Observations:     20                Log-Likelihood:      -224.00   \n",
            "Df Model:             2                 F-statistic:         2.394     \n",
            "Df Residuals:         17                Prob (F-statistic):  0.121     \n",
            "R-squared:            0.220             Scale:               3.6842e+08\n",
            "-----------------------------------------------------------------------\n",
            "            Coef.     Std.Err.     t    P>|t|     [0.025       0.975]  \n",
            "-----------------------------------------------------------------------\n",
            "Intercept -2449.7146 59324.5017 -0.0413 0.9675 -127613.4723 122714.0432\n",
            "x1           23.9403    21.0337  1.1382 0.2708     -20.4370     68.3175\n",
            "x2          -13.7653    23.3248 -0.5902 0.5628     -62.9763     35.4458\n",
            "-----------------------------------------------------------------------\n",
            "Omnibus:                0.679          Durbin-Watson:            2.013 \n",
            "Prob(Omnibus):          0.712          Jarque-Bera (JB):         0.646 \n",
            "Skew:                   -0.064         Prob(JB):                 0.724 \n",
            "Kurtosis:               2.129          Condition No.:            177374\n",
            "=======================================================================\n",
            "* The condition number is large (2e+05). This might indicate\n",
            "strong multicollinearity or other numerical problems.\n"
          ],
          "name": "stdout"
        }
      ]
    },
    {
      "cell_type": "markdown",
      "metadata": {
        "id": "L3iIgU6F2eF9",
        "colab_type": "text"
      },
      "source": [
        "### Later problem interpret"
      ]
    },
    {
      "cell_type": "markdown",
      "metadata": {
        "id": "7APrT-rU2jMC",
        "colab_type": "text"
      },
      "source": [
        "# Question 2"
      ]
    },
    {
      "cell_type": "code",
      "metadata": {
        "id": "zNEp46T_2imJ",
        "colab_type": "code",
        "colab": {
          "base_uri": "https://localhost:8080/",
          "height": 233
        },
        "outputId": "4570fe35-6a75-499a-e7ea-a35b87a067d9"
      },
      "source": [
        "# Download in the data if it's not already there\n",
        "! if [ ! -e binary.csv ]; \\\n",
        "then wget https://stats.idre.ucla.edu/stat/data/binary.csv; \\\n",
        "fi;"
      ],
      "execution_count": 42,
      "outputs": [
        {
          "output_type": "stream",
          "text": [
            "--2019-09-26 18:36:05--  https://stats.idre.ucla.edu/stat/data/binary.csv\n",
            "Resolving stats.idre.ucla.edu (stats.idre.ucla.edu)... 128.97.141.21\n",
            "Connecting to stats.idre.ucla.edu (stats.idre.ucla.edu)|128.97.141.21|:443... connected.\n",
            "HTTP request sent, awaiting response... 200 OK\n",
            "Length: 5489 (5.4K) [text/csv]\n",
            "Saving to: ‘binary.csv’\n",
            "\n",
            "\rbinary.csv            0%[                    ]       0  --.-KB/s               \rbinary.csv          100%[===================>]   5.36K  --.-KB/s    in 0s      \n",
            "\n",
            "2019-09-26 18:36:05 (359 MB/s) - ‘binary.csv’ saved [5489/5489]\n",
            "\n"
          ],
          "name": "stdout"
        }
      ]
    },
    {
      "cell_type": "code",
      "metadata": {
        "id": "Rb8VFxo82gwU",
        "colab_type": "code",
        "colab": {
          "base_uri": "https://localhost:8080/",
          "height": 204
        },
        "outputId": "8956d0d2-e1cd-4ad5-b376-736bff4f2195"
      },
      "source": [
        "dat = pd.read_csv(\"binary.csv\")\n",
        "dat.head()"
      ],
      "execution_count": 77,
      "outputs": [
        {
          "output_type": "execute_result",
          "data": {
            "text/html": [
              "<div>\n",
              "<style scoped>\n",
              "    .dataframe tbody tr th:only-of-type {\n",
              "        vertical-align: middle;\n",
              "    }\n",
              "\n",
              "    .dataframe tbody tr th {\n",
              "        vertical-align: top;\n",
              "    }\n",
              "\n",
              "    .dataframe thead th {\n",
              "        text-align: right;\n",
              "    }\n",
              "</style>\n",
              "<table border=\"1\" class=\"dataframe\">\n",
              "  <thead>\n",
              "    <tr style=\"text-align: right;\">\n",
              "      <th></th>\n",
              "      <th>admit</th>\n",
              "      <th>gre</th>\n",
              "      <th>gpa</th>\n",
              "      <th>rank</th>\n",
              "    </tr>\n",
              "  </thead>\n",
              "  <tbody>\n",
              "    <tr>\n",
              "      <th>0</th>\n",
              "      <td>0</td>\n",
              "      <td>380</td>\n",
              "      <td>3.61</td>\n",
              "      <td>3</td>\n",
              "    </tr>\n",
              "    <tr>\n",
              "      <th>1</th>\n",
              "      <td>1</td>\n",
              "      <td>660</td>\n",
              "      <td>3.67</td>\n",
              "      <td>3</td>\n",
              "    </tr>\n",
              "    <tr>\n",
              "      <th>2</th>\n",
              "      <td>1</td>\n",
              "      <td>800</td>\n",
              "      <td>4.00</td>\n",
              "      <td>1</td>\n",
              "    </tr>\n",
              "    <tr>\n",
              "      <th>3</th>\n",
              "      <td>1</td>\n",
              "      <td>640</td>\n",
              "      <td>3.19</td>\n",
              "      <td>4</td>\n",
              "    </tr>\n",
              "    <tr>\n",
              "      <th>4</th>\n",
              "      <td>0</td>\n",
              "      <td>520</td>\n",
              "      <td>2.93</td>\n",
              "      <td>4</td>\n",
              "    </tr>\n",
              "  </tbody>\n",
              "</table>\n",
              "</div>"
            ],
            "text/plain": [
              "   admit  gre   gpa  rank\n",
              "0      0  380  3.61     3\n",
              "1      1  660  3.67     3\n",
              "2      1  800  4.00     1\n",
              "3      1  640  3.19     4\n",
              "4      0  520  2.93     4"
            ]
          },
          "metadata": {
            "tags": []
          },
          "execution_count": 77
        }
      ]
    },
    {
      "cell_type": "code",
      "metadata": {
        "id": "zSHvJeeV3Qic",
        "colab_type": "code",
        "colab": {
          "base_uri": "https://localhost:8080/",
          "height": 431
        },
        "outputId": "7e289a13-1c41-47ee-e810-b35f4f03d661"
      },
      "source": [
        "trainFraction = .75\n",
        "x = dat[['gre','gpa','rank']]\n",
        "y = dat[['admit']]\n",
        "x = sm.tools.add_constant(x)\n",
        "sample = np.random.uniform(size = 400) < trainFraction\n",
        "trainingDat = dat[sample]\n",
        "testingDat = dat[~sample]\n",
        "\n",
        "\n",
        "xtraining = x[sample]\n",
        "xtesting = x[~sample]\n",
        "ytraining = y[sample]\n",
        "ytesting = y[~sample]\n",
        "fit = sm.discrete.discrete_model.Logit(ytraining, xtraining).fit()\n",
        "print(fit.summary())"
      ],
      "execution_count": 85,
      "outputs": [
        {
          "output_type": "stream",
          "text": [
            "Optimization terminated successfully.\n",
            "         Current function value: 0.557300\n",
            "         Iterations 6\n",
            "                           Logit Regression Results                           \n",
            "==============================================================================\n",
            "Dep. Variable:                  admit   No. Observations:                  297\n",
            "Model:                          Logit   Df Residuals:                      293\n",
            "Method:                           MLE   Df Model:                            3\n",
            "Date:                Thu, 26 Sep 2019   Pseudo R-squ.:                 0.09557\n",
            "Time:                        19:04:12   Log-Likelihood:                -165.52\n",
            "converged:                       True   LL-Null:                       -183.01\n",
            "Covariance Type:            nonrobust   LLR p-value:                 1.231e-07\n",
            "==============================================================================\n",
            "                 coef    std err          z      P>|z|      [0.025      0.975]\n",
            "------------------------------------------------------------------------------\n",
            "const         -2.8845      1.349     -2.138      0.033      -5.529      -0.240\n",
            "gre            0.0013      0.001      0.987      0.324      -0.001       0.004\n",
            "gpa            0.8695      0.387      2.247      0.025       0.111       1.628\n",
            "rank          -0.7074      0.155     -4.575      0.000      -1.011      -0.404\n",
            "==============================================================================\n"
          ],
          "name": "stdout"
        },
        {
          "output_type": "stream",
          "text": [
            "/usr/local/lib/python3.6/dist-packages/numpy/core/fromnumeric.py:2389: FutureWarning: Method .ptp is deprecated and will be removed in a future version. Use numpy.ptp instead.\n",
            "  return ptp(axis=axis, out=out, **kwargs)\n"
          ],
          "name": "stderr"
        }
      ]
    },
    {
      "cell_type": "markdown",
      "metadata": {
        "id": "Sftt_IGk9dB6",
        "colab_type": "text"
      },
      "source": [
        "## INTERP COEFF"
      ]
    },
    {
      "cell_type": "code",
      "metadata": {
        "id": "iglSyErA9eed",
        "colab_type": "code",
        "colab": {
          "base_uri": "https://localhost:8080/",
          "height": 187
        },
        "outputId": "4b1573d6-ff6d-450a-bd6b-c362c4fcbbae"
      },
      "source": [
        "thresh = np.arange(0,1,0.01)"
      ],
      "execution_count": 94,
      "outputs": [
        {
          "output_type": "execute_result",
          "data": {
            "text/plain": [
              "array([0.  , 0.01, 0.02, 0.03, 0.04, 0.05, 0.06, 0.07, 0.08, 0.09, 0.1 ,\n",
              "       0.11, 0.12, 0.13, 0.14, 0.15, 0.16, 0.17, 0.18, 0.19, 0.2 , 0.21,\n",
              "       0.22, 0.23, 0.24, 0.25, 0.26, 0.27, 0.28, 0.29, 0.3 , 0.31, 0.32,\n",
              "       0.33, 0.34, 0.35, 0.36, 0.37, 0.38, 0.39, 0.4 , 0.41, 0.42, 0.43,\n",
              "       0.44, 0.45, 0.46, 0.47, 0.48, 0.49, 0.5 , 0.51, 0.52, 0.53, 0.54,\n",
              "       0.55, 0.56, 0.57, 0.58, 0.59, 0.6 , 0.61, 0.62, 0.63, 0.64, 0.65,\n",
              "       0.66, 0.67, 0.68, 0.69, 0.7 , 0.71, 0.72, 0.73, 0.74, 0.75, 0.76,\n",
              "       0.77, 0.78, 0.79, 0.8 , 0.81, 0.82, 0.83, 0.84, 0.85, 0.86, 0.87,\n",
              "       0.88, 0.89, 0.9 , 0.91, 0.92, 0.93, 0.94, 0.95, 0.96, 0.97, 0.98,\n",
              "       0.99])"
            ]
          },
          "metadata": {
            "tags": []
          },
          "execution_count": 94
        }
      ]
    },
    {
      "cell_type": "code",
      "metadata": {
        "id": "NWGpOaA_-6hY",
        "colab_type": "code",
        "colab": {}
      },
      "source": [
        ""
      ],
      "execution_count": 0,
      "outputs": []
    }
  ]
}